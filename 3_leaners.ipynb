{
 "cells": [
  {
   "cell_type": "markdown",
   "id": "daa1291d",
   "metadata": {},
   "source": [
    "# Uplift-моделирование"
   ]
  },
  {
   "cell_type": "markdown",
   "id": "8416970a",
   "metadata": {},
   "source": [
    "## Summary\n",
    "\n",
    "qini test score:\n",
    "```\n",
    "- S-learner:    0.007191009557359775 (0.00719845002189539)\n",
    "- T-learner:    0.010087308278696368 (0.009967477639333339)\n",
    "- X-learner:    0.008255681291896536\n",
    "- R-learner:    0.008169724346340376\n",
    "- Uplift-trees: 0.00560462419768773\n",
    "```"
   ]
  },
  {
   "cell_type": "markdown",
   "id": "9d88a524",
   "metadata": {},
   "source": [
    "## Imports"
   ]
  },
  {
   "cell_type": "code",
   "execution_count": 1,
   "id": "21a10500",
   "metadata": {
    "ExecuteTime": {
     "end_time": "2024-09-09T02:29:36.536768Z",
     "start_time": "2024-09-09T02:29:35.256544Z"
    }
   },
   "outputs": [],
   "source": [
    "import pandas as pd\n",
    "import numpy as np\n",
    "\n",
    "import matplotlib.pyplot as plt"
   ]
  },
  {
   "cell_type": "code",
   "execution_count": 2,
   "id": "42b51060",
   "metadata": {
    "ExecuteTime": {
     "end_time": "2024-09-09T02:29:39.659752Z",
     "start_time": "2024-09-09T02:29:38.827322Z"
    }
   },
   "outputs": [],
   "source": [
    "from sklearn.model_selection import train_test_split\n",
    "from sklearn.linear_model import LogisticRegression, LinearRegression"
   ]
  },
  {
   "cell_type": "code",
   "execution_count": 3,
   "id": "365ebe25",
   "metadata": {
    "ExecuteTime": {
     "end_time": "2024-09-09T02:29:40.276434Z",
     "start_time": "2024-09-09T02:29:40.268146Z"
    }
   },
   "outputs": [],
   "source": [
    "from metrics import qini_df"
   ]
  },
  {
   "cell_type": "markdown",
   "id": "478dd57f",
   "metadata": {},
   "source": [
    "---"
   ]
  },
  {
   "cell_type": "markdown",
   "id": "2e4f0658",
   "metadata": {},
   "source": [
    "## Базовые методы uplift-моделирования"
   ]
  },
  {
   "cell_type": "markdown",
   "id": "e08c65e4",
   "metadata": {},
   "source": [
    "### Preprocess"
   ]
  },
  {
   "cell_type": "markdown",
   "id": "0f00676d",
   "metadata": {},
   "source": [
    "#### Data"
   ]
  },
  {
   "cell_type": "markdown",
   "id": "80383aaf",
   "metadata": {},
   "source": [
    "Данные можете взять отсюда: https://storage.yandexcloud.net/mle-data/sprint-5/discountuplift.csv."
   ]
  },
  {
   "cell_type": "code",
   "execution_count": 4,
   "id": "a99ef70e",
   "metadata": {
    "ExecuteTime": {
     "end_time": "2024-09-09T02:28:09.718069Z",
     "start_time": "2024-09-09T02:28:09.654995Z"
    }
   },
   "outputs": [],
   "source": [
    "# загружаем DataFrame\n",
    "\n",
    "df = pd.read_csv(\"discountuplift.csv\", sep=\"\\t\")"
   ]
  },
  {
   "cell_type": "code",
   "execution_count": 5,
   "id": "27bf97ea",
   "metadata": {
    "ExecuteTime": {
     "end_time": "2024-09-09T02:28:10.284522Z",
     "start_time": "2024-09-09T02:28:10.270576Z"
    }
   },
   "outputs": [
    {
     "data": {
      "text/plain": [
       "(12784, 18)"
      ]
     },
     "execution_count": 5,
     "metadata": {},
     "output_type": "execute_result"
    }
   ],
   "source": [
    "df.shape"
   ]
  },
  {
   "cell_type": "code",
   "execution_count": 6,
   "id": "93bd00a1",
   "metadata": {
    "ExecuteTime": {
     "end_time": "2024-09-09T02:28:10.978296Z",
     "start_time": "2024-09-09T02:28:10.953067Z"
    }
   },
   "outputs": [
    {
     "data": {
      "text/html": [
       "<div>\n",
       "<style scoped>\n",
       "    .dataframe tbody tr th:only-of-type {\n",
       "        vertical-align: middle;\n",
       "    }\n",
       "\n",
       "    .dataframe tbody tr th {\n",
       "        vertical-align: top;\n",
       "    }\n",
       "\n",
       "    .dataframe thead th {\n",
       "        text-align: right;\n",
       "    }\n",
       "</style>\n",
       "<table border=\"1\" class=\"dataframe\">\n",
       "  <thead>\n",
       "    <tr style=\"text-align: right;\">\n",
       "      <th></th>\n",
       "      <th>recency</th>\n",
       "      <th>history</th>\n",
       "      <th>used_discount</th>\n",
       "      <th>used_bogo</th>\n",
       "      <th>is_referral</th>\n",
       "      <th>treatment</th>\n",
       "      <th>zip_code_Rural</th>\n",
       "      <th>zip_code_Surburban</th>\n",
       "      <th>zip_code_Urban</th>\n",
       "      <th>channel_Multichannel</th>\n",
       "      <th>channel_Phone</th>\n",
       "      <th>channel_Web</th>\n",
       "      <th>proba_CN</th>\n",
       "      <th>proba_CR</th>\n",
       "      <th>proba_TN</th>\n",
       "      <th>proba_TR</th>\n",
       "      <th>uplift_score</th>\n",
       "      <th>target_class</th>\n",
       "    </tr>\n",
       "  </thead>\n",
       "  <tbody>\n",
       "    <tr>\n",
       "      <th>0</th>\n",
       "      <td>3</td>\n",
       "      <td>977.51</td>\n",
       "      <td>1</td>\n",
       "      <td>1</td>\n",
       "      <td>1</td>\n",
       "      <td>0</td>\n",
       "      <td>0</td>\n",
       "      <td>0</td>\n",
       "      <td>1</td>\n",
       "      <td>0</td>\n",
       "      <td>0</td>\n",
       "      <td>1</td>\n",
       "      <td>0.476095</td>\n",
       "      <td>0.159710</td>\n",
       "      <td>0.280660</td>\n",
       "      <td>0.083534</td>\n",
       "      <td>-0.043654</td>\n",
       "      <td>0</td>\n",
       "    </tr>\n",
       "    <tr>\n",
       "      <th>1</th>\n",
       "      <td>4</td>\n",
       "      <td>391.10</td>\n",
       "      <td>1</td>\n",
       "      <td>0</td>\n",
       "      <td>0</td>\n",
       "      <td>0</td>\n",
       "      <td>1</td>\n",
       "      <td>0</td>\n",
       "      <td>0</td>\n",
       "      <td>1</td>\n",
       "      <td>0</td>\n",
       "      <td>0</td>\n",
       "      <td>0.443035</td>\n",
       "      <td>0.087289</td>\n",
       "      <td>0.285081</td>\n",
       "      <td>0.184594</td>\n",
       "      <td>0.456858</td>\n",
       "      <td>0</td>\n",
       "    </tr>\n",
       "    <tr>\n",
       "      <th>2</th>\n",
       "      <td>7</td>\n",
       "      <td>72.37</td>\n",
       "      <td>1</td>\n",
       "      <td>0</td>\n",
       "      <td>1</td>\n",
       "      <td>1</td>\n",
       "      <td>0</td>\n",
       "      <td>0</td>\n",
       "      <td>1</td>\n",
       "      <td>0</td>\n",
       "      <td>0</td>\n",
       "      <td>1</td>\n",
       "      <td>0.514386</td>\n",
       "      <td>0.015488</td>\n",
       "      <td>0.429174</td>\n",
       "      <td>0.040952</td>\n",
       "      <td>0.115756</td>\n",
       "      <td>2</td>\n",
       "    </tr>\n",
       "    <tr>\n",
       "      <th>3</th>\n",
       "      <td>10</td>\n",
       "      <td>67.40</td>\n",
       "      <td>1</td>\n",
       "      <td>0</td>\n",
       "      <td>0</td>\n",
       "      <td>1</td>\n",
       "      <td>0</td>\n",
       "      <td>0</td>\n",
       "      <td>1</td>\n",
       "      <td>0</td>\n",
       "      <td>0</td>\n",
       "      <td>1</td>\n",
       "      <td>0.386800</td>\n",
       "      <td>0.125233</td>\n",
       "      <td>0.415839</td>\n",
       "      <td>0.072128</td>\n",
       "      <td>-0.193534</td>\n",
       "      <td>2</td>\n",
       "    </tr>\n",
       "    <tr>\n",
       "      <th>4</th>\n",
       "      <td>2</td>\n",
       "      <td>45.68</td>\n",
       "      <td>1</td>\n",
       "      <td>0</td>\n",
       "      <td>1</td>\n",
       "      <td>1</td>\n",
       "      <td>0</td>\n",
       "      <td>0</td>\n",
       "      <td>1</td>\n",
       "      <td>0</td>\n",
       "      <td>1</td>\n",
       "      <td>0</td>\n",
       "      <td>0.517491</td>\n",
       "      <td>0.022507</td>\n",
       "      <td>0.412372</td>\n",
       "      <td>0.047630</td>\n",
       "      <td>0.123726</td>\n",
       "      <td>2</td>\n",
       "    </tr>\n",
       "  </tbody>\n",
       "</table>\n",
       "</div>"
      ],
      "text/plain": [
       "   recency  history  used_discount  used_bogo  is_referral  treatment  \\\n",
       "0        3   977.51              1          1            1          0   \n",
       "1        4   391.10              1          0            0          0   \n",
       "2        7    72.37              1          0            1          1   \n",
       "3       10    67.40              1          0            0          1   \n",
       "4        2    45.68              1          0            1          1   \n",
       "\n",
       "   zip_code_Rural  zip_code_Surburban  zip_code_Urban  channel_Multichannel  \\\n",
       "0               0                   0               1                     0   \n",
       "1               1                   0               0                     1   \n",
       "2               0                   0               1                     0   \n",
       "3               0                   0               1                     0   \n",
       "4               0                   0               1                     0   \n",
       "\n",
       "   channel_Phone  channel_Web  proba_CN  proba_CR  proba_TN  proba_TR  \\\n",
       "0              0            1  0.476095  0.159710  0.280660  0.083534   \n",
       "1              0            0  0.443035  0.087289  0.285081  0.184594   \n",
       "2              0            1  0.514386  0.015488  0.429174  0.040952   \n",
       "3              0            1  0.386800  0.125233  0.415839  0.072128   \n",
       "4              1            0  0.517491  0.022507  0.412372  0.047630   \n",
       "\n",
       "   uplift_score  target_class  \n",
       "0     -0.043654             0  \n",
       "1      0.456858             0  \n",
       "2      0.115756             2  \n",
       "3     -0.193534             2  \n",
       "4      0.123726             2  "
      ]
     },
     "execution_count": 6,
     "metadata": {},
     "output_type": "execute_result"
    }
   ],
   "source": [
    "df.head()"
   ]
  },
  {
   "cell_type": "markdown",
   "id": "ae6793fc",
   "metadata": {
    "ExecuteTime": {
     "end_time": "2024-08-27T01:54:29.889659Z",
     "start_time": "2024-08-27T01:54:29.879935Z"
    }
   },
   "source": [
    "Первое, что нужно сделать, — явно выделить колонки с целевой переменной, факторами и целевым воздействием.\n",
    "\n",
    "Расшифровка `target_class`:\n",
    "\n",
    "- `0` — контрольная выборка, не купили товар ($y_c=0$, в наших терминах)\n",
    "- `1` — контрольная выборка, купили товар ($y_c=1$, в наших терминах)\n",
    "- `2` — выборка с воздействием (скидка), не купили товар ($y_t=0$, в наших терминах);\n",
    "- `3` — выборка с воздействием (скидка), купили товар ($y_t=1$, в наших терминах)."
   ]
  },
  {
   "cell_type": "markdown",
   "id": "7c917d49",
   "metadata": {},
   "source": [
    "#### Preprocess"
   ]
  },
  {
   "cell_type": "code",
   "execution_count": 7,
   "id": "02619705",
   "metadata": {
    "ExecuteTime": {
     "end_time": "2024-09-09T02:28:17.395175Z",
     "start_time": "2024-09-09T02:28:17.386495Z"
    }
   },
   "outputs": [],
   "source": [
    "# добавим признак `old target` — принимает значение 1, если была покупка, и 0 в противном случае\n",
    "df['old_target'] = df['target_class'] % 2\n",
    "\n",
    "# выделим колонки с факторами и колонку с фактом «целевого воздействия» — выдачи скидки\n",
    "feature_cols = ['recency', 'history', 'used_discount', 'used_bogo', 'is_referral',\n",
    "                'zip_code_Rural', 'zip_code_Surburban', 'zip_code_Urban',\n",
    "                'channel_Multichannel', 'channel_Phone', 'channel_Web']"
   ]
  },
  {
   "cell_type": "code",
   "execution_count": 8,
   "id": "d7907081",
   "metadata": {
    "ExecuteTime": {
     "end_time": "2024-09-09T02:28:18.130181Z",
     "start_time": "2024-09-09T02:28:18.125362Z"
    }
   },
   "outputs": [],
   "source": [
    "target_col = 'old_target'\n",
    "treatment_col = 'treatment' "
   ]
  },
  {
   "cell_type": "markdown",
   "id": "423f2388",
   "metadata": {},
   "source": [
    "Сколько объектов с классом 1 в целевой переменной?"
   ]
  },
  {
   "cell_type": "code",
   "execution_count": 9,
   "id": "7d630762",
   "metadata": {
    "ExecuteTime": {
     "end_time": "2024-09-09T02:28:19.101240Z",
     "start_time": "2024-09-09T02:28:19.090714Z"
    }
   },
   "outputs": [
    {
     "data": {
      "text/plain": [
       "1878"
      ]
     },
     "execution_count": 9,
     "metadata": {},
     "output_type": "execute_result"
    }
   ],
   "source": [
    "df[target_col].sum()"
   ]
  },
  {
   "cell_type": "code",
   "execution_count": 10,
   "id": "4aa29ccf",
   "metadata": {
    "ExecuteTime": {
     "end_time": "2024-09-09T02:28:19.772443Z",
     "start_time": "2024-09-09T02:28:19.757794Z"
    }
   },
   "outputs": [
    {
     "data": {
      "text/html": [
       "<div>\n",
       "<style scoped>\n",
       "    .dataframe tbody tr th:only-of-type {\n",
       "        vertical-align: middle;\n",
       "    }\n",
       "\n",
       "    .dataframe tbody tr th {\n",
       "        vertical-align: top;\n",
       "    }\n",
       "\n",
       "    .dataframe thead th {\n",
       "        text-align: right;\n",
       "    }\n",
       "</style>\n",
       "<table border=\"1\" class=\"dataframe\">\n",
       "  <thead>\n",
       "    <tr style=\"text-align: right;\">\n",
       "      <th></th>\n",
       "      <th>count</th>\n",
       "      <th>proportion</th>\n",
       "    </tr>\n",
       "    <tr>\n",
       "      <th>old_target</th>\n",
       "      <th></th>\n",
       "      <th></th>\n",
       "    </tr>\n",
       "  </thead>\n",
       "  <tbody>\n",
       "    <tr>\n",
       "      <th>0</th>\n",
       "      <td>10906</td>\n",
       "      <td>0.853098</td>\n",
       "    </tr>\n",
       "    <tr>\n",
       "      <th>1</th>\n",
       "      <td>1878</td>\n",
       "      <td>0.146902</td>\n",
       "    </tr>\n",
       "  </tbody>\n",
       "</table>\n",
       "</div>"
      ],
      "text/plain": [
       "            count  proportion\n",
       "old_target                   \n",
       "0           10906    0.853098\n",
       "1            1878    0.146902"
      ]
     },
     "execution_count": 10,
     "metadata": {},
     "output_type": "execute_result"
    }
   ],
   "source": [
    "pd.concat([df[target_col].value_counts(), df[target_col].value_counts(normalize=True)], axis=1)"
   ]
  },
  {
   "cell_type": "markdown",
   "id": "a59b89e0",
   "metadata": {},
   "source": [
    "Разобъем выборку на тренировочную и тестовую "
   ]
  },
  {
   "cell_type": "code",
   "execution_count": 11,
   "id": "1dbe8023",
   "metadata": {
    "ExecuteTime": {
     "end_time": "2024-09-09T02:28:20.934815Z",
     "start_time": "2024-09-09T02:28:20.819147Z"
    }
   },
   "outputs": [],
   "source": [
    "df_train, df_test = train_test_split(\n",
    "    df,\n",
    "    stratify=df[[treatment_col, target_col]],\n",
    "    random_state=1,\n",
    "    test_size=0.25,\n",
    ")"
   ]
  },
  {
   "cell_type": "markdown",
   "id": "3fe59fd2",
   "metadata": {},
   "source": [
    "Чему равна доля значений 1 в целевой переменной из тренировочного датасета? "
   ]
  },
  {
   "cell_type": "code",
   "execution_count": 12,
   "id": "8a131b7f",
   "metadata": {
    "ExecuteTime": {
     "end_time": "2024-09-09T02:28:21.920353Z",
     "start_time": "2024-09-09T02:28:21.908686Z"
    }
   },
   "outputs": [
    {
     "data": {
      "text/plain": [
       "old_target\n",
       "0    0.85315\n",
       "1    0.14685\n",
       "Name: proportion, dtype: float64"
      ]
     },
     "execution_count": 12,
     "metadata": {},
     "output_type": "execute_result"
    }
   ],
   "source": [
    "df_train[target_col].value_counts(normalize=True)"
   ]
  },
  {
   "cell_type": "code",
   "execution_count": 13,
   "id": "f05f1cc0",
   "metadata": {
    "ExecuteTime": {
     "end_time": "2024-09-09T02:28:22.425342Z",
     "start_time": "2024-09-09T02:28:22.414516Z"
    }
   },
   "outputs": [
    {
     "data": {
      "text/plain": [
       "old_target\n",
       "0    0.852941\n",
       "1    0.147059\n",
       "Name: proportion, dtype: float64"
      ]
     },
     "execution_count": 13,
     "metadata": {},
     "output_type": "execute_result"
    }
   ],
   "source": [
    "df_test[target_col].value_counts(normalize=True)"
   ]
  },
  {
   "cell_type": "markdown",
   "id": "0484f31e",
   "metadata": {},
   "source": [
    "### S-learner"
   ]
  },
  {
   "cell_type": "markdown",
   "id": "de46ad27",
   "metadata": {},
   "source": [
    "#### Learn Model"
   ]
  },
  {
   "cell_type": "markdown",
   "id": "2a7fad6a",
   "metadata": {},
   "source": [
    "Обучим модель"
   ]
  },
  {
   "cell_type": "code",
   "execution_count": 14,
   "id": "e617467d",
   "metadata": {
    "ExecuteTime": {
     "end_time": "2024-09-09T02:28:24.087743Z",
     "start_time": "2024-09-09T02:28:24.082809Z"
    }
   },
   "outputs": [],
   "source": [
    "s_learner = LogisticRegression(random_state=1, max_iter=100_000, n_jobs=-1)"
   ]
  },
  {
   "cell_type": "code",
   "execution_count": 15,
   "id": "c5da6b7d",
   "metadata": {
    "ExecuteTime": {
     "end_time": "2024-09-09T02:28:27.019756Z",
     "start_time": "2024-09-09T02:28:25.076312Z"
    }
   },
   "outputs": [
    {
     "data": {
      "text/html": [
       "<style>#sk-container-id-1 {\n",
       "  /* Definition of color scheme common for light and dark mode */\n",
       "  --sklearn-color-text: black;\n",
       "  --sklearn-color-line: gray;\n",
       "  /* Definition of color scheme for unfitted estimators */\n",
       "  --sklearn-color-unfitted-level-0: #fff5e6;\n",
       "  --sklearn-color-unfitted-level-1: #f6e4d2;\n",
       "  --sklearn-color-unfitted-level-2: #ffe0b3;\n",
       "  --sklearn-color-unfitted-level-3: chocolate;\n",
       "  /* Definition of color scheme for fitted estimators */\n",
       "  --sklearn-color-fitted-level-0: #f0f8ff;\n",
       "  --sklearn-color-fitted-level-1: #d4ebff;\n",
       "  --sklearn-color-fitted-level-2: #b3dbfd;\n",
       "  --sklearn-color-fitted-level-3: cornflowerblue;\n",
       "\n",
       "  /* Specific color for light theme */\n",
       "  --sklearn-color-text-on-default-background: var(--sg-text-color, var(--theme-code-foreground, var(--jp-content-font-color1, black)));\n",
       "  --sklearn-color-background: var(--sg-background-color, var(--theme-background, var(--jp-layout-color0, white)));\n",
       "  --sklearn-color-border-box: var(--sg-text-color, var(--theme-code-foreground, var(--jp-content-font-color1, black)));\n",
       "  --sklearn-color-icon: #696969;\n",
       "\n",
       "  @media (prefers-color-scheme: dark) {\n",
       "    /* Redefinition of color scheme for dark theme */\n",
       "    --sklearn-color-text-on-default-background: var(--sg-text-color, var(--theme-code-foreground, var(--jp-content-font-color1, white)));\n",
       "    --sklearn-color-background: var(--sg-background-color, var(--theme-background, var(--jp-layout-color0, #111)));\n",
       "    --sklearn-color-border-box: var(--sg-text-color, var(--theme-code-foreground, var(--jp-content-font-color1, white)));\n",
       "    --sklearn-color-icon: #878787;\n",
       "  }\n",
       "}\n",
       "\n",
       "#sk-container-id-1 {\n",
       "  color: var(--sklearn-color-text);\n",
       "}\n",
       "\n",
       "#sk-container-id-1 pre {\n",
       "  padding: 0;\n",
       "}\n",
       "\n",
       "#sk-container-id-1 input.sk-hidden--visually {\n",
       "  border: 0;\n",
       "  clip: rect(1px 1px 1px 1px);\n",
       "  clip: rect(1px, 1px, 1px, 1px);\n",
       "  height: 1px;\n",
       "  margin: -1px;\n",
       "  overflow: hidden;\n",
       "  padding: 0;\n",
       "  position: absolute;\n",
       "  width: 1px;\n",
       "}\n",
       "\n",
       "#sk-container-id-1 div.sk-dashed-wrapped {\n",
       "  border: 1px dashed var(--sklearn-color-line);\n",
       "  margin: 0 0.4em 0.5em 0.4em;\n",
       "  box-sizing: border-box;\n",
       "  padding-bottom: 0.4em;\n",
       "  background-color: var(--sklearn-color-background);\n",
       "}\n",
       "\n",
       "#sk-container-id-1 div.sk-container {\n",
       "  /* jupyter's `normalize.less` sets `[hidden] { display: none; }`\n",
       "     but bootstrap.min.css set `[hidden] { display: none !important; }`\n",
       "     so we also need the `!important` here to be able to override the\n",
       "     default hidden behavior on the sphinx rendered scikit-learn.org.\n",
       "     See: https://github.com/scikit-learn/scikit-learn/issues/21755 */\n",
       "  display: inline-block !important;\n",
       "  position: relative;\n",
       "}\n",
       "\n",
       "#sk-container-id-1 div.sk-text-repr-fallback {\n",
       "  display: none;\n",
       "}\n",
       "\n",
       "div.sk-parallel-item,\n",
       "div.sk-serial,\n",
       "div.sk-item {\n",
       "  /* draw centered vertical line to link estimators */\n",
       "  background-image: linear-gradient(var(--sklearn-color-text-on-default-background), var(--sklearn-color-text-on-default-background));\n",
       "  background-size: 2px 100%;\n",
       "  background-repeat: no-repeat;\n",
       "  background-position: center center;\n",
       "}\n",
       "\n",
       "/* Parallel-specific style estimator block */\n",
       "\n",
       "#sk-container-id-1 div.sk-parallel-item::after {\n",
       "  content: \"\";\n",
       "  width: 100%;\n",
       "  border-bottom: 2px solid var(--sklearn-color-text-on-default-background);\n",
       "  flex-grow: 1;\n",
       "}\n",
       "\n",
       "#sk-container-id-1 div.sk-parallel {\n",
       "  display: flex;\n",
       "  align-items: stretch;\n",
       "  justify-content: center;\n",
       "  background-color: var(--sklearn-color-background);\n",
       "  position: relative;\n",
       "}\n",
       "\n",
       "#sk-container-id-1 div.sk-parallel-item {\n",
       "  display: flex;\n",
       "  flex-direction: column;\n",
       "}\n",
       "\n",
       "#sk-container-id-1 div.sk-parallel-item:first-child::after {\n",
       "  align-self: flex-end;\n",
       "  width: 50%;\n",
       "}\n",
       "\n",
       "#sk-container-id-1 div.sk-parallel-item:last-child::after {\n",
       "  align-self: flex-start;\n",
       "  width: 50%;\n",
       "}\n",
       "\n",
       "#sk-container-id-1 div.sk-parallel-item:only-child::after {\n",
       "  width: 0;\n",
       "}\n",
       "\n",
       "/* Serial-specific style estimator block */\n",
       "\n",
       "#sk-container-id-1 div.sk-serial {\n",
       "  display: flex;\n",
       "  flex-direction: column;\n",
       "  align-items: center;\n",
       "  background-color: var(--sklearn-color-background);\n",
       "  padding-right: 1em;\n",
       "  padding-left: 1em;\n",
       "}\n",
       "\n",
       "\n",
       "/* Toggleable style: style used for estimator/Pipeline/ColumnTransformer box that is\n",
       "clickable and can be expanded/collapsed.\n",
       "- Pipeline and ColumnTransformer use this feature and define the default style\n",
       "- Estimators will overwrite some part of the style using the `sk-estimator` class\n",
       "*/\n",
       "\n",
       "/* Pipeline and ColumnTransformer style (default) */\n",
       "\n",
       "#sk-container-id-1 div.sk-toggleable {\n",
       "  /* Default theme specific background. It is overwritten whether we have a\n",
       "  specific estimator or a Pipeline/ColumnTransformer */\n",
       "  background-color: var(--sklearn-color-background);\n",
       "}\n",
       "\n",
       "/* Toggleable label */\n",
       "#sk-container-id-1 label.sk-toggleable__label {\n",
       "  cursor: pointer;\n",
       "  display: block;\n",
       "  width: 100%;\n",
       "  margin-bottom: 0;\n",
       "  padding: 0.5em;\n",
       "  box-sizing: border-box;\n",
       "  text-align: center;\n",
       "}\n",
       "\n",
       "#sk-container-id-1 label.sk-toggleable__label-arrow:before {\n",
       "  /* Arrow on the left of the label */\n",
       "  content: \"▸\";\n",
       "  float: left;\n",
       "  margin-right: 0.25em;\n",
       "  color: var(--sklearn-color-icon);\n",
       "}\n",
       "\n",
       "#sk-container-id-1 label.sk-toggleable__label-arrow:hover:before {\n",
       "  color: var(--sklearn-color-text);\n",
       "}\n",
       "\n",
       "/* Toggleable content - dropdown */\n",
       "\n",
       "#sk-container-id-1 div.sk-toggleable__content {\n",
       "  max-height: 0;\n",
       "  max-width: 0;\n",
       "  overflow: hidden;\n",
       "  text-align: left;\n",
       "  /* unfitted */\n",
       "  background-color: var(--sklearn-color-unfitted-level-0);\n",
       "}\n",
       "\n",
       "#sk-container-id-1 div.sk-toggleable__content.fitted {\n",
       "  /* fitted */\n",
       "  background-color: var(--sklearn-color-fitted-level-0);\n",
       "}\n",
       "\n",
       "#sk-container-id-1 div.sk-toggleable__content pre {\n",
       "  margin: 0.2em;\n",
       "  border-radius: 0.25em;\n",
       "  color: var(--sklearn-color-text);\n",
       "  /* unfitted */\n",
       "  background-color: var(--sklearn-color-unfitted-level-0);\n",
       "}\n",
       "\n",
       "#sk-container-id-1 div.sk-toggleable__content.fitted pre {\n",
       "  /* unfitted */\n",
       "  background-color: var(--sklearn-color-fitted-level-0);\n",
       "}\n",
       "\n",
       "#sk-container-id-1 input.sk-toggleable__control:checked~div.sk-toggleable__content {\n",
       "  /* Expand drop-down */\n",
       "  max-height: 200px;\n",
       "  max-width: 100%;\n",
       "  overflow: auto;\n",
       "}\n",
       "\n",
       "#sk-container-id-1 input.sk-toggleable__control:checked~label.sk-toggleable__label-arrow:before {\n",
       "  content: \"▾\";\n",
       "}\n",
       "\n",
       "/* Pipeline/ColumnTransformer-specific style */\n",
       "\n",
       "#sk-container-id-1 div.sk-label input.sk-toggleable__control:checked~label.sk-toggleable__label {\n",
       "  color: var(--sklearn-color-text);\n",
       "  background-color: var(--sklearn-color-unfitted-level-2);\n",
       "}\n",
       "\n",
       "#sk-container-id-1 div.sk-label.fitted input.sk-toggleable__control:checked~label.sk-toggleable__label {\n",
       "  background-color: var(--sklearn-color-fitted-level-2);\n",
       "}\n",
       "\n",
       "/* Estimator-specific style */\n",
       "\n",
       "/* Colorize estimator box */\n",
       "#sk-container-id-1 div.sk-estimator input.sk-toggleable__control:checked~label.sk-toggleable__label {\n",
       "  /* unfitted */\n",
       "  background-color: var(--sklearn-color-unfitted-level-2);\n",
       "}\n",
       "\n",
       "#sk-container-id-1 div.sk-estimator.fitted input.sk-toggleable__control:checked~label.sk-toggleable__label {\n",
       "  /* fitted */\n",
       "  background-color: var(--sklearn-color-fitted-level-2);\n",
       "}\n",
       "\n",
       "#sk-container-id-1 div.sk-label label.sk-toggleable__label,\n",
       "#sk-container-id-1 div.sk-label label {\n",
       "  /* The background is the default theme color */\n",
       "  color: var(--sklearn-color-text-on-default-background);\n",
       "}\n",
       "\n",
       "/* On hover, darken the color of the background */\n",
       "#sk-container-id-1 div.sk-label:hover label.sk-toggleable__label {\n",
       "  color: var(--sklearn-color-text);\n",
       "  background-color: var(--sklearn-color-unfitted-level-2);\n",
       "}\n",
       "\n",
       "/* Label box, darken color on hover, fitted */\n",
       "#sk-container-id-1 div.sk-label.fitted:hover label.sk-toggleable__label.fitted {\n",
       "  color: var(--sklearn-color-text);\n",
       "  background-color: var(--sklearn-color-fitted-level-2);\n",
       "}\n",
       "\n",
       "/* Estimator label */\n",
       "\n",
       "#sk-container-id-1 div.sk-label label {\n",
       "  font-family: monospace;\n",
       "  font-weight: bold;\n",
       "  display: inline-block;\n",
       "  line-height: 1.2em;\n",
       "}\n",
       "\n",
       "#sk-container-id-1 div.sk-label-container {\n",
       "  text-align: center;\n",
       "}\n",
       "\n",
       "/* Estimator-specific */\n",
       "#sk-container-id-1 div.sk-estimator {\n",
       "  font-family: monospace;\n",
       "  border: 1px dotted var(--sklearn-color-border-box);\n",
       "  border-radius: 0.25em;\n",
       "  box-sizing: border-box;\n",
       "  margin-bottom: 0.5em;\n",
       "  /* unfitted */\n",
       "  background-color: var(--sklearn-color-unfitted-level-0);\n",
       "}\n",
       "\n",
       "#sk-container-id-1 div.sk-estimator.fitted {\n",
       "  /* fitted */\n",
       "  background-color: var(--sklearn-color-fitted-level-0);\n",
       "}\n",
       "\n",
       "/* on hover */\n",
       "#sk-container-id-1 div.sk-estimator:hover {\n",
       "  /* unfitted */\n",
       "  background-color: var(--sklearn-color-unfitted-level-2);\n",
       "}\n",
       "\n",
       "#sk-container-id-1 div.sk-estimator.fitted:hover {\n",
       "  /* fitted */\n",
       "  background-color: var(--sklearn-color-fitted-level-2);\n",
       "}\n",
       "\n",
       "/* Specification for estimator info (e.g. \"i\" and \"?\") */\n",
       "\n",
       "/* Common style for \"i\" and \"?\" */\n",
       "\n",
       ".sk-estimator-doc-link,\n",
       "a:link.sk-estimator-doc-link,\n",
       "a:visited.sk-estimator-doc-link {\n",
       "  float: right;\n",
       "  font-size: smaller;\n",
       "  line-height: 1em;\n",
       "  font-family: monospace;\n",
       "  background-color: var(--sklearn-color-background);\n",
       "  border-radius: 1em;\n",
       "  height: 1em;\n",
       "  width: 1em;\n",
       "  text-decoration: none !important;\n",
       "  margin-left: 1ex;\n",
       "  /* unfitted */\n",
       "  border: var(--sklearn-color-unfitted-level-1) 1pt solid;\n",
       "  color: var(--sklearn-color-unfitted-level-1);\n",
       "}\n",
       "\n",
       ".sk-estimator-doc-link.fitted,\n",
       "a:link.sk-estimator-doc-link.fitted,\n",
       "a:visited.sk-estimator-doc-link.fitted {\n",
       "  /* fitted */\n",
       "  border: var(--sklearn-color-fitted-level-1) 1pt solid;\n",
       "  color: var(--sklearn-color-fitted-level-1);\n",
       "}\n",
       "\n",
       "/* On hover */\n",
       "div.sk-estimator:hover .sk-estimator-doc-link:hover,\n",
       ".sk-estimator-doc-link:hover,\n",
       "div.sk-label-container:hover .sk-estimator-doc-link:hover,\n",
       ".sk-estimator-doc-link:hover {\n",
       "  /* unfitted */\n",
       "  background-color: var(--sklearn-color-unfitted-level-3);\n",
       "  color: var(--sklearn-color-background);\n",
       "  text-decoration: none;\n",
       "}\n",
       "\n",
       "div.sk-estimator.fitted:hover .sk-estimator-doc-link.fitted:hover,\n",
       ".sk-estimator-doc-link.fitted:hover,\n",
       "div.sk-label-container:hover .sk-estimator-doc-link.fitted:hover,\n",
       ".sk-estimator-doc-link.fitted:hover {\n",
       "  /* fitted */\n",
       "  background-color: var(--sklearn-color-fitted-level-3);\n",
       "  color: var(--sklearn-color-background);\n",
       "  text-decoration: none;\n",
       "}\n",
       "\n",
       "/* Span, style for the box shown on hovering the info icon */\n",
       ".sk-estimator-doc-link span {\n",
       "  display: none;\n",
       "  z-index: 9999;\n",
       "  position: relative;\n",
       "  font-weight: normal;\n",
       "  right: .2ex;\n",
       "  padding: .5ex;\n",
       "  margin: .5ex;\n",
       "  width: min-content;\n",
       "  min-width: 20ex;\n",
       "  max-width: 50ex;\n",
       "  color: var(--sklearn-color-text);\n",
       "  box-shadow: 2pt 2pt 4pt #999;\n",
       "  /* unfitted */\n",
       "  background: var(--sklearn-color-unfitted-level-0);\n",
       "  border: .5pt solid var(--sklearn-color-unfitted-level-3);\n",
       "}\n",
       "\n",
       ".sk-estimator-doc-link.fitted span {\n",
       "  /* fitted */\n",
       "  background: var(--sklearn-color-fitted-level-0);\n",
       "  border: var(--sklearn-color-fitted-level-3);\n",
       "}\n",
       "\n",
       ".sk-estimator-doc-link:hover span {\n",
       "  display: block;\n",
       "}\n",
       "\n",
       "/* \"?\"-specific style due to the `<a>` HTML tag */\n",
       "\n",
       "#sk-container-id-1 a.estimator_doc_link {\n",
       "  float: right;\n",
       "  font-size: 1rem;\n",
       "  line-height: 1em;\n",
       "  font-family: monospace;\n",
       "  background-color: var(--sklearn-color-background);\n",
       "  border-radius: 1rem;\n",
       "  height: 1rem;\n",
       "  width: 1rem;\n",
       "  text-decoration: none;\n",
       "  /* unfitted */\n",
       "  color: var(--sklearn-color-unfitted-level-1);\n",
       "  border: var(--sklearn-color-unfitted-level-1) 1pt solid;\n",
       "}\n",
       "\n",
       "#sk-container-id-1 a.estimator_doc_link.fitted {\n",
       "  /* fitted */\n",
       "  border: var(--sklearn-color-fitted-level-1) 1pt solid;\n",
       "  color: var(--sklearn-color-fitted-level-1);\n",
       "}\n",
       "\n",
       "/* On hover */\n",
       "#sk-container-id-1 a.estimator_doc_link:hover {\n",
       "  /* unfitted */\n",
       "  background-color: var(--sklearn-color-unfitted-level-3);\n",
       "  color: var(--sklearn-color-background);\n",
       "  text-decoration: none;\n",
       "}\n",
       "\n",
       "#sk-container-id-1 a.estimator_doc_link.fitted:hover {\n",
       "  /* fitted */\n",
       "  background-color: var(--sklearn-color-fitted-level-3);\n",
       "}\n",
       "</style><div id=\"sk-container-id-1\" class=\"sk-top-container\"><div class=\"sk-text-repr-fallback\"><pre>LogisticRegression(max_iter=100000, n_jobs=-1, random_state=1)</pre><b>In a Jupyter environment, please rerun this cell to show the HTML representation or trust the notebook. <br />On GitHub, the HTML representation is unable to render, please try loading this page with nbviewer.org.</b></div><div class=\"sk-container\" hidden><div class=\"sk-item\"><div class=\"sk-estimator fitted sk-toggleable\"><input class=\"sk-toggleable__control sk-hidden--visually\" id=\"sk-estimator-id-1\" type=\"checkbox\" checked><label for=\"sk-estimator-id-1\" class=\"sk-toggleable__label fitted sk-toggleable__label-arrow fitted\">&nbsp;&nbsp;LogisticRegression<a class=\"sk-estimator-doc-link fitted\" rel=\"noreferrer\" target=\"_blank\" href=\"https://scikit-learn.org/1.5/modules/generated/sklearn.linear_model.LogisticRegression.html\">?<span>Documentation for LogisticRegression</span></a><span class=\"sk-estimator-doc-link fitted\">i<span>Fitted</span></span></label><div class=\"sk-toggleable__content fitted\"><pre>LogisticRegression(max_iter=100000, n_jobs=-1, random_state=1)</pre></div> </div></div></div></div>"
      ],
      "text/plain": [
       "LogisticRegression(max_iter=100000, n_jobs=-1, random_state=1)"
      ]
     },
     "execution_count": 15,
     "metadata": {},
     "output_type": "execute_result"
    }
   ],
   "source": [
    "s_learner.fit(\n",
    "    X=df_train[feature_cols + [treatment_col]],\n",
    "    y=df_train[target_col],\n",
    ")"
   ]
  },
  {
   "cell_type": "code",
   "execution_count": 16,
   "id": "669cedde",
   "metadata": {
    "ExecuteTime": {
     "end_time": "2024-09-09T02:28:28.153478Z",
     "start_time": "2024-09-09T02:28:28.144628Z"
    }
   },
   "outputs": [
    {
     "data": {
      "text/plain": [
       "array([-1.36364751])"
      ]
     },
     "execution_count": 16,
     "metadata": {},
     "output_type": "execute_result"
    }
   ],
   "source": [
    "s_learner.intercept_"
   ]
  },
  {
   "cell_type": "markdown",
   "id": "25855a0a",
   "metadata": {},
   "source": [
    "#### Metrics"
   ]
  },
  {
   "cell_type": "code",
   "execution_count": 17,
   "id": "a58cbd01",
   "metadata": {
    "ExecuteTime": {
     "end_time": "2024-09-09T02:28:29.278071Z",
     "start_time": "2024-09-09T02:28:29.243823Z"
    }
   },
   "outputs": [],
   "source": [
    "# предскажем вероятность покупки, если скидка есть\n",
    "df_test[treatment_col] = 1\n",
    "df_test['yes_treatment'] = s_learner.predict_proba(df_test[feature_cols+[treatment_col]])[:,1]\n",
    "\n",
    "# предскажите вероятность покупки, если скидки нет \n",
    "df_test[treatment_col] = 0\n",
    "df_test['no_treatment'] = s_learner.predict_proba(df_test[feature_cols+[treatment_col]])[:,1]\n",
    "\n",
    "uplift_vals = df_test['yes_treatment'] - df_test['no_treatment']\n",
    "df_test['uplift_score'] = uplift_vals"
   ]
  },
  {
   "cell_type": "code",
   "execution_count": 18,
   "id": "9d9f4dab",
   "metadata": {
    "ExecuteTime": {
     "end_time": "2024-09-09T02:28:30.041951Z",
     "start_time": "2024-09-09T02:28:30.032802Z"
    }
   },
   "outputs": [
    {
     "data": {
      "text/plain": [
       "(3196,)"
      ]
     },
     "execution_count": 18,
     "metadata": {},
     "output_type": "execute_result"
    }
   ],
   "source": [
    "uplift_vals.shape"
   ]
  },
  {
   "cell_type": "code",
   "execution_count": 19,
   "id": "3b7da056",
   "metadata": {
    "ExecuteTime": {
     "end_time": "2024-09-09T02:28:30.640498Z",
     "start_time": "2024-09-09T02:28:30.627125Z"
    }
   },
   "outputs": [
    {
     "data": {
      "text/plain": [
       "8348     0.065262\n",
       "6137     0.070590\n",
       "5198     0.070847\n",
       "11830    0.059890\n",
       "7148     0.060419\n",
       "dtype: float64"
      ]
     },
     "execution_count": 19,
     "metadata": {},
     "output_type": "execute_result"
    }
   ],
   "source": [
    "uplift_vals.head()"
   ]
  },
  {
   "cell_type": "code",
   "execution_count": 20,
   "id": "0acdaa00",
   "metadata": {
    "ExecuteTime": {
     "end_time": "2024-09-09T02:28:33.760168Z",
     "start_time": "2024-09-09T02:28:33.460800Z"
    }
   },
   "outputs": [
    {
     "data": {
      "image/png": "[encoded data removed]",
      "text/plain": [
       "<Figure size 720x576 with 1 Axes>"
      ]
     },
     "metadata": {
      "needs_background": "light"
     },
     "output_type": "display_data"
    },
    {
     "data": {
      "text/plain": [
       "0.00719845002189539"
      ]
     },
     "execution_count": 20,
     "metadata": {},
     "output_type": "execute_result"
    }
   ],
   "source": [
    "qini_df(df_test, print_optimum=True)"
   ]
  },
  {
   "cell_type": "markdown",
   "id": "6548e094",
   "metadata": {},
   "source": [
    "#### Проверить Qini Score на всем наборе данных"
   ]
  },
  {
   "cell_type": "code",
   "execution_count": 21,
   "id": "0ff56ed3",
   "metadata": {
    "ExecuteTime": {
     "end_time": "2024-09-09T02:28:35.905178Z",
     "start_time": "2024-09-09T02:28:35.896288Z"
    }
   },
   "outputs": [],
   "source": [
    "df_check = df.copy()"
   ]
  },
  {
   "cell_type": "code",
   "execution_count": 22,
   "id": "7365a536",
   "metadata": {
    "ExecuteTime": {
     "end_time": "2024-09-09T02:28:36.650352Z",
     "start_time": "2024-09-09T02:28:36.613767Z"
    }
   },
   "outputs": [],
   "source": [
    "# предскажем вероятность покупки, если скидка есть\n",
    "df_check[treatment_col] = 1\n",
    "df_check['yes_treatment'] = s_learner.predict_proba(df_check[feature_cols+[treatment_col]])[:,1]\n",
    "\n",
    "# предскажите вероятность покупки, если скидки нет \n",
    "df_check[treatment_col] = 0\n",
    "df_check['no_treatment'] = s_learner.predict_proba(df_check[feature_cols+[treatment_col]])[:,1]\n",
    "\n",
    "df_check['uplift_score'] = df_check['yes_treatment'] - df_check['no_treatment']"
   ]
  },
  {
   "cell_type": "code",
   "execution_count": 23,
   "id": "3d3f07e6",
   "metadata": {
    "ExecuteTime": {
     "end_time": "2024-09-09T02:28:39.095478Z",
     "start_time": "2024-09-09T02:28:38.828542Z"
    }
   },
   "outputs": [
    {
     "data": {
      "image/png": "[encoded data removed]",
      "text/plain": [
       "<Figure size 720x576 with 1 Axes>"
      ]
     },
     "metadata": {
      "needs_background": "light"
     },
     "output_type": "display_data"
    },
    {
     "data": {
      "text/plain": [
       "0.005426074794898303"
      ]
     },
     "execution_count": 23,
     "metadata": {},
     "output_type": "execute_result"
    }
   ],
   "source": [
    "qini_df(df_check, print_optimum=True)"
   ]
  },
  {
   "cell_type": "markdown",
   "id": "9ea0e5e0",
   "metadata": {},
   "source": [
    "### T-learner"
   ]
  },
  {
   "cell_type": "markdown",
   "id": "3852eddd",
   "metadata": {},
   "source": [
    "#### Learn Model"
   ]
  },
  {
   "cell_type": "code",
   "execution_count": 24,
   "id": "365533fb",
   "metadata": {
    "ExecuteTime": {
     "end_time": "2024-09-09T02:28:44.000491Z",
     "start_time": "2024-09-09T02:28:43.994882Z"
    }
   },
   "outputs": [],
   "source": [
    "t_learner_1 = LogisticRegression(random_state=1, max_iter=100_000, n_jobs=-1)\n",
    "t_learner_0 = LogisticRegression(random_state=1, max_iter=100_000, n_jobs=-1)"
   ]
  },
  {
   "cell_type": "code",
   "execution_count": 25,
   "id": "f9297f8d",
   "metadata": {
    "ExecuteTime": {
     "end_time": "2024-09-09T02:28:46.518264Z",
     "start_time": "2024-09-09T02:28:44.791064Z"
    }
   },
   "outputs": [
    {
     "data": {
      "text/html": [
       "<style>#sk-container-id-2 {\n",
       "  /* Definition of color scheme common for light and dark mode */\n",
       "  --sklearn-color-text: black;\n",
       "  --sklearn-color-line: gray;\n",
       "  /* Definition of color scheme for unfitted estimators */\n",
       "  --sklearn-color-unfitted-level-0: #fff5e6;\n",
       "  --sklearn-color-unfitted-level-1: #f6e4d2;\n",
       "  --sklearn-color-unfitted-level-2: #ffe0b3;\n",
       "  --sklearn-color-unfitted-level-3: chocolate;\n",
       "  /* Definition of color scheme for fitted estimators */\n",
       "  --sklearn-color-fitted-level-0: #f0f8ff;\n",
       "  --sklearn-color-fitted-level-1: #d4ebff;\n",
       "  --sklearn-color-fitted-level-2: #b3dbfd;\n",
       "  --sklearn-color-fitted-level-3: cornflowerblue;\n",
       "\n",
       "  /* Specific color for light theme */\n",
       "  --sklearn-color-text-on-default-background: var(--sg-text-color, var(--theme-code-foreground, var(--jp-content-font-color1, black)));\n",
       "  --sklearn-color-background: var(--sg-background-color, var(--theme-background, var(--jp-layout-color0, white)));\n",
       "  --sklearn-color-border-box: var(--sg-text-color, var(--theme-code-foreground, var(--jp-content-font-color1, black)));\n",
       "  --sklearn-color-icon: #696969;\n",
       "\n",
       "  @media (prefers-color-scheme: dark) {\n",
       "    /* Redefinition of color scheme for dark theme */\n",
       "    --sklearn-color-text-on-default-background: var(--sg-text-color, var(--theme-code-foreground, var(--jp-content-font-color1, white)));\n",
       "    --sklearn-color-background: var(--sg-background-color, var(--theme-background, var(--jp-layout-color0, #111)));\n",
       "    --sklearn-color-border-box: var(--sg-text-color, var(--theme-code-foreground, var(--jp-content-font-color1, white)));\n",
       "    --sklearn-color-icon: #878787;\n",
       "  }\n",
       "}\n",
       "\n",
       "#sk-container-id-2 {\n",
       "  color: var(--sklearn-color-text);\n",
       "}\n",
       "\n",
       "#sk-container-id-2 pre {\n",
       "  padding: 0;\n",
       "}\n",
       "\n",
       "#sk-container-id-2 input.sk-hidden--visually {\n",
       "  border: 0;\n",
       "  clip: rect(1px 1px 1px 1px);\n",
       "  clip: rect(1px, 1px, 1px, 1px);\n",
       "  height: 1px;\n",
       "  margin: -1px;\n",
       "  overflow: hidden;\n",
       "  padding: 0;\n",
       "  position: absolute;\n",
       "  width: 1px;\n",
       "}\n",
       "\n",
       "#sk-container-id-2 div.sk-dashed-wrapped {\n",
       "  border: 1px dashed var(--sklearn-color-line);\n",
       "  margin: 0 0.4em 0.5em 0.4em;\n",
       "  box-sizing: border-box;\n",
       "  padding-bottom: 0.4em;\n",
       "  background-color: var(--sklearn-color-background);\n",
       "}\n",
       "\n",
       "#sk-container-id-2 div.sk-container {\n",
       "  /* jupyter's `normalize.less` sets `[hidden] { display: none; }`\n",
       "     but bootstrap.min.css set `[hidden] { display: none !important; }`\n",
       "     so we also need the `!important` here to be able to override the\n",
       "     default hidden behavior on the sphinx rendered scikit-learn.org.\n",
       "     See: https://github.com/scikit-learn/scikit-learn/issues/21755 */\n",
       "  display: inline-block !important;\n",
       "  position: relative;\n",
       "}\n",
       "\n",
       "#sk-container-id-2 div.sk-text-repr-fallback {\n",
       "  display: none;\n",
       "}\n",
       "\n",
       "div.sk-parallel-item,\n",
       "div.sk-serial,\n",
       "div.sk-item {\n",
       "  /* draw centered vertical line to link estimators */\n",
       "  background-image: linear-gradient(var(--sklearn-color-text-on-default-background), var(--sklearn-color-text-on-default-background));\n",
       "  background-size: 2px 100%;\n",
       "  background-repeat: no-repeat;\n",
       "  background-position: center center;\n",
       "}\n",
       "\n",
       "/* Parallel-specific style estimator block */\n",
       "\n",
       "#sk-container-id-2 div.sk-parallel-item::after {\n",
       "  content: \"\";\n",
       "  width: 100%;\n",
       "  border-bottom: 2px solid var(--sklearn-color-text-on-default-background);\n",
       "  flex-grow: 1;\n",
       "}\n",
       "\n",
       "#sk-container-id-2 div.sk-parallel {\n",
       "  display: flex;\n",
       "  align-items: stretch;\n",
       "  justify-content: center;\n",
       "  background-color: var(--sklearn-color-background);\n",
       "  position: relative;\n",
       "}\n",
       "\n",
       "#sk-container-id-2 div.sk-parallel-item {\n",
       "  display: flex;\n",
       "  flex-direction: column;\n",
       "}\n",
       "\n",
       "#sk-container-id-2 div.sk-parallel-item:first-child::after {\n",
       "  align-self: flex-end;\n",
       "  width: 50%;\n",
       "}\n",
       "\n",
       "#sk-container-id-2 div.sk-parallel-item:last-child::after {\n",
       "  align-self: flex-start;\n",
       "  width: 50%;\n",
       "}\n",
       "\n",
       "#sk-container-id-2 div.sk-parallel-item:only-child::after {\n",
       "  width: 0;\n",
       "}\n",
       "\n",
       "/* Serial-specific style estimator block */\n",
       "\n",
       "#sk-container-id-2 div.sk-serial {\n",
       "  display: flex;\n",
       "  flex-direction: column;\n",
       "  align-items: center;\n",
       "  background-color: var(--sklearn-color-background);\n",
       "  padding-right: 1em;\n",
       "  padding-left: 1em;\n",
       "}\n",
       "\n",
       "\n",
       "/* Toggleable style: style used for estimator/Pipeline/ColumnTransformer box that is\n",
       "clickable and can be expanded/collapsed.\n",
       "- Pipeline and ColumnTransformer use this feature and define the default style\n",
       "- Estimators will overwrite some part of the style using the `sk-estimator` class\n",
       "*/\n",
       "\n",
       "/* Pipeline and ColumnTransformer style (default) */\n",
       "\n",
       "#sk-container-id-2 div.sk-toggleable {\n",
       "  /* Default theme specific background. It is overwritten whether we have a\n",
       "  specific estimator or a Pipeline/ColumnTransformer */\n",
       "  background-color: var(--sklearn-color-background);\n",
       "}\n",
       "\n",
       "/* Toggleable label */\n",
       "#sk-container-id-2 label.sk-toggleable__label {\n",
       "  cursor: pointer;\n",
       "  display: block;\n",
       "  width: 100%;\n",
       "  margin-bottom: 0;\n",
       "  padding: 0.5em;\n",
       "  box-sizing: border-box;\n",
       "  text-align: center;\n",
       "}\n",
       "\n",
       "#sk-container-id-2 label.sk-toggleable__label-arrow:before {\n",
       "  /* Arrow on the left of the label */\n",
       "  content: \"▸\";\n",
       "  float: left;\n",
       "  margin-right: 0.25em;\n",
       "  color: var(--sklearn-color-icon);\n",
       "}\n",
       "\n",
       "#sk-container-id-2 label.sk-toggleable__label-arrow:hover:before {\n",
       "  color: var(--sklearn-color-text);\n",
       "}\n",
       "\n",
       "/* Toggleable content - dropdown */\n",
       "\n",
       "#sk-container-id-2 div.sk-toggleable__content {\n",
       "  max-height: 0;\n",
       "  max-width: 0;\n",
       "  overflow: hidden;\n",
       "  text-align: left;\n",
       "  /* unfitted */\n",
       "  background-color: var(--sklearn-color-unfitted-level-0);\n",
       "}\n",
       "\n",
       "#sk-container-id-2 div.sk-toggleable__content.fitted {\n",
       "  /* fitted */\n",
       "  background-color: var(--sklearn-color-fitted-level-0);\n",
       "}\n",
       "\n",
       "#sk-container-id-2 div.sk-toggleable__content pre {\n",
       "  margin: 0.2em;\n",
       "  border-radius: 0.25em;\n",
       "  color: var(--sklearn-color-text);\n",
       "  /* unfitted */\n",
       "  background-color: var(--sklearn-color-unfitted-level-0);\n",
       "}\n",
       "\n",
       "#sk-container-id-2 div.sk-toggleable__content.fitted pre {\n",
       "  /* unfitted */\n",
       "  background-color: var(--sklearn-color-fitted-level-0);\n",
       "}\n",
       "\n",
       "#sk-container-id-2 input.sk-toggleable__control:checked~div.sk-toggleable__content {\n",
       "  /* Expand drop-down */\n",
       "  max-height: 200px;\n",
       "  max-width: 100%;\n",
       "  overflow: auto;\n",
       "}\n",
       "\n",
       "#sk-container-id-2 input.sk-toggleable__control:checked~label.sk-toggleable__label-arrow:before {\n",
       "  content: \"▾\";\n",
       "}\n",
       "\n",
       "/* Pipeline/ColumnTransformer-specific style */\n",
       "\n",
       "#sk-container-id-2 div.sk-label input.sk-toggleable__control:checked~label.sk-toggleable__label {\n",
       "  color: var(--sklearn-color-text);\n",
       "  background-color: var(--sklearn-color-unfitted-level-2);\n",
       "}\n",
       "\n",
       "#sk-container-id-2 div.sk-label.fitted input.sk-toggleable__control:checked~label.sk-toggleable__label {\n",
       "  background-color: var(--sklearn-color-fitted-level-2);\n",
       "}\n",
       "\n",
       "/* Estimator-specific style */\n",
       "\n",
       "/* Colorize estimator box */\n",
       "#sk-container-id-2 div.sk-estimator input.sk-toggleable__control:checked~label.sk-toggleable__label {\n",
       "  /* unfitted */\n",
       "  background-color: var(--sklearn-color-unfitted-level-2);\n",
       "}\n",
       "\n",
       "#sk-container-id-2 div.sk-estimator.fitted input.sk-toggleable__control:checked~label.sk-toggleable__label {\n",
       "  /* fitted */\n",
       "  background-color: var(--sklearn-color-fitted-level-2);\n",
       "}\n",
       "\n",
       "#sk-container-id-2 div.sk-label label.sk-toggleable__label,\n",
       "#sk-container-id-2 div.sk-label label {\n",
       "  /* The background is the default theme color */\n",
       "  color: var(--sklearn-color-text-on-default-background);\n",
       "}\n",
       "\n",
       "/* On hover, darken the color of the background */\n",
       "#sk-container-id-2 div.sk-label:hover label.sk-toggleable__label {\n",
       "  color: var(--sklearn-color-text);\n",
       "  background-color: var(--sklearn-color-unfitted-level-2);\n",
       "}\n",
       "\n",
       "/* Label box, darken color on hover, fitted */\n",
       "#sk-container-id-2 div.sk-label.fitted:hover label.sk-toggleable__label.fitted {\n",
       "  color: var(--sklearn-color-text);\n",
       "  background-color: var(--sklearn-color-fitted-level-2);\n",
       "}\n",
       "\n",
       "/* Estimator label */\n",
       "\n",
       "#sk-container-id-2 div.sk-label label {\n",
       "  font-family: monospace;\n",
       "  font-weight: bold;\n",
       "  display: inline-block;\n",
       "  line-height: 1.2em;\n",
       "}\n",
       "\n",
       "#sk-container-id-2 div.sk-label-container {\n",
       "  text-align: center;\n",
       "}\n",
       "\n",
       "/* Estimator-specific */\n",
       "#sk-container-id-2 div.sk-estimator {\n",
       "  font-family: monospace;\n",
       "  border: 1px dotted var(--sklearn-color-border-box);\n",
       "  border-radius: 0.25em;\n",
       "  box-sizing: border-box;\n",
       "  margin-bottom: 0.5em;\n",
       "  /* unfitted */\n",
       "  background-color: var(--sklearn-color-unfitted-level-0);\n",
       "}\n",
       "\n",
       "#sk-container-id-2 div.sk-estimator.fitted {\n",
       "  /* fitted */\n",
       "  background-color: var(--sklearn-color-fitted-level-0);\n",
       "}\n",
       "\n",
       "/* on hover */\n",
       "#sk-container-id-2 div.sk-estimator:hover {\n",
       "  /* unfitted */\n",
       "  background-color: var(--sklearn-color-unfitted-level-2);\n",
       "}\n",
       "\n",
       "#sk-container-id-2 div.sk-estimator.fitted:hover {\n",
       "  /* fitted */\n",
       "  background-color: var(--sklearn-color-fitted-level-2);\n",
       "}\n",
       "\n",
       "/* Specification for estimator info (e.g. \"i\" and \"?\") */\n",
       "\n",
       "/* Common style for \"i\" and \"?\" */\n",
       "\n",
       ".sk-estimator-doc-link,\n",
       "a:link.sk-estimator-doc-link,\n",
       "a:visited.sk-estimator-doc-link {\n",
       "  float: right;\n",
       "  font-size: smaller;\n",
       "  line-height: 1em;\n",
       "  font-family: monospace;\n",
       "  background-color: var(--sklearn-color-background);\n",
       "  border-radius: 1em;\n",
       "  height: 1em;\n",
       "  width: 1em;\n",
       "  text-decoration: none !important;\n",
       "  margin-left: 1ex;\n",
       "  /* unfitted */\n",
       "  border: var(--sklearn-color-unfitted-level-1) 1pt solid;\n",
       "  color: var(--sklearn-color-unfitted-level-1);\n",
       "}\n",
       "\n",
       ".sk-estimator-doc-link.fitted,\n",
       "a:link.sk-estimator-doc-link.fitted,\n",
       "a:visited.sk-estimator-doc-link.fitted {\n",
       "  /* fitted */\n",
       "  border: var(--sklearn-color-fitted-level-1) 1pt solid;\n",
       "  color: var(--sklearn-color-fitted-level-1);\n",
       "}\n",
       "\n",
       "/* On hover */\n",
       "div.sk-estimator:hover .sk-estimator-doc-link:hover,\n",
       ".sk-estimator-doc-link:hover,\n",
       "div.sk-label-container:hover .sk-estimator-doc-link:hover,\n",
       ".sk-estimator-doc-link:hover {\n",
       "  /* unfitted */\n",
       "  background-color: var(--sklearn-color-unfitted-level-3);\n",
       "  color: var(--sklearn-color-background);\n",
       "  text-decoration: none;\n",
       "}\n",
       "\n",
       "div.sk-estimator.fitted:hover .sk-estimator-doc-link.fitted:hover,\n",
       ".sk-estimator-doc-link.fitted:hover,\n",
       "div.sk-label-container:hover .sk-estimator-doc-link.fitted:hover,\n",
       ".sk-estimator-doc-link.fitted:hover {\n",
       "  /* fitted */\n",
       "  background-color: var(--sklearn-color-fitted-level-3);\n",
       "  color: var(--sklearn-color-background);\n",
       "  text-decoration: none;\n",
       "}\n",
       "\n",
       "/* Span, style for the box shown on hovering the info icon */\n",
       ".sk-estimator-doc-link span {\n",
       "  display: none;\n",
       "  z-index: 9999;\n",
       "  position: relative;\n",
       "  font-weight: normal;\n",
       "  right: .2ex;\n",
       "  padding: .5ex;\n",
       "  margin: .5ex;\n",
       "  width: min-content;\n",
       "  min-width: 20ex;\n",
       "  max-width: 50ex;\n",
       "  color: var(--sklearn-color-text);\n",
       "  box-shadow: 2pt 2pt 4pt #999;\n",
       "  /* unfitted */\n",
       "  background: var(--sklearn-color-unfitted-level-0);\n",
       "  border: .5pt solid var(--sklearn-color-unfitted-level-3);\n",
       "}\n",
       "\n",
       ".sk-estimator-doc-link.fitted span {\n",
       "  /* fitted */\n",
       "  background: var(--sklearn-color-fitted-level-0);\n",
       "  border: var(--sklearn-color-fitted-level-3);\n",
       "}\n",
       "\n",
       ".sk-estimator-doc-link:hover span {\n",
       "  display: block;\n",
       "}\n",
       "\n",
       "/* \"?\"-specific style due to the `<a>` HTML tag */\n",
       "\n",
       "#sk-container-id-2 a.estimator_doc_link {\n",
       "  float: right;\n",
       "  font-size: 1rem;\n",
       "  line-height: 1em;\n",
       "  font-family: monospace;\n",
       "  background-color: var(--sklearn-color-background);\n",
       "  border-radius: 1rem;\n",
       "  height: 1rem;\n",
       "  width: 1rem;\n",
       "  text-decoration: none;\n",
       "  /* unfitted */\n",
       "  color: var(--sklearn-color-unfitted-level-1);\n",
       "  border: var(--sklearn-color-unfitted-level-1) 1pt solid;\n",
       "}\n",
       "\n",
       "#sk-container-id-2 a.estimator_doc_link.fitted {\n",
       "  /* fitted */\n",
       "  border: var(--sklearn-color-fitted-level-1) 1pt solid;\n",
       "  color: var(--sklearn-color-fitted-level-1);\n",
       "}\n",
       "\n",
       "/* On hover */\n",
       "#sk-container-id-2 a.estimator_doc_link:hover {\n",
       "  /* unfitted */\n",
       "  background-color: var(--sklearn-color-unfitted-level-3);\n",
       "  color: var(--sklearn-color-background);\n",
       "  text-decoration: none;\n",
       "}\n",
       "\n",
       "#sk-container-id-2 a.estimator_doc_link.fitted:hover {\n",
       "  /* fitted */\n",
       "  background-color: var(--sklearn-color-fitted-level-3);\n",
       "}\n",
       "</style><div id=\"sk-container-id-2\" class=\"sk-top-container\"><div class=\"sk-text-repr-fallback\"><pre>LogisticRegression(max_iter=100000, n_jobs=-1, random_state=1)</pre><b>In a Jupyter environment, please rerun this cell to show the HTML representation or trust the notebook. <br />On GitHub, the HTML representation is unable to render, please try loading this page with nbviewer.org.</b></div><div class=\"sk-container\" hidden><div class=\"sk-item\"><div class=\"sk-estimator fitted sk-toggleable\"><input class=\"sk-toggleable__control sk-hidden--visually\" id=\"sk-estimator-id-2\" type=\"checkbox\" checked><label for=\"sk-estimator-id-2\" class=\"sk-toggleable__label fitted sk-toggleable__label-arrow fitted\">&nbsp;&nbsp;LogisticRegression<a class=\"sk-estimator-doc-link fitted\" rel=\"noreferrer\" target=\"_blank\" href=\"https://scikit-learn.org/1.5/modules/generated/sklearn.linear_model.LogisticRegression.html\">?<span>Documentation for LogisticRegression</span></a><span class=\"sk-estimator-doc-link fitted\">i<span>Fitted</span></span></label><div class=\"sk-toggleable__content fitted\"><pre>LogisticRegression(max_iter=100000, n_jobs=-1, random_state=1)</pre></div> </div></div></div></div>"
      ],
      "text/plain": [
       "LogisticRegression(max_iter=100000, n_jobs=-1, random_state=1)"
      ]
     },
     "execution_count": 25,
     "metadata": {},
     "output_type": "execute_result"
    }
   ],
   "source": [
    "# обучите модели\n",
    "t_learner_1.fit(\n",
    "    X=df_train.loc[df_train[treatment_col]==1, feature_cols],\n",
    "    y=df_train.loc[df_train[treatment_col]==1, target_col]\n",
    ")\n",
    "\n",
    "t_learner_0.fit(\n",
    "    X=df_train.loc[df_train[treatment_col]==0, feature_cols],\n",
    "    y=df_train.loc[df_train[treatment_col]==0, target_col]\n",
    ")"
   ]
  },
  {
   "cell_type": "code",
   "execution_count": 26,
   "id": "d7042569",
   "metadata": {
    "ExecuteTime": {
     "end_time": "2024-09-09T02:28:47.498162Z",
     "start_time": "2024-09-09T02:28:47.487182Z"
    }
   },
   "outputs": [
    {
     "data": {
      "text/plain": [
       "(array([-2.06532699]), array([-1.06556865]))"
      ]
     },
     "execution_count": 26,
     "metadata": {},
     "output_type": "execute_result"
    }
   ],
   "source": [
    "t_learner_0.intercept_, t_learner_1.intercept_"
   ]
  },
  {
   "cell_type": "markdown",
   "id": "7f52e63a",
   "metadata": {},
   "source": [
    "#### Metrics"
   ]
  },
  {
   "cell_type": "code",
   "execution_count": 27,
   "id": "b811346d",
   "metadata": {
    "ExecuteTime": {
     "end_time": "2024-09-09T02:28:48.757628Z",
     "start_time": "2024-09-09T02:28:48.728773Z"
    }
   },
   "outputs": [],
   "source": [
    "df_test['yes_treatment'] = t_learner_1.predict_proba(df_test[feature_cols])[:,1]\n",
    "df_test['no_treatment'] = t_learner_0.predict_proba(df_test[feature_cols])[:,1]\n",
    "\n",
    "uplift_vals = df_test['yes_treatment'] - df_test['no_treatment']\n",
    "df_test['uplift_score'] = uplift_vals"
   ]
  },
  {
   "cell_type": "code",
   "execution_count": 28,
   "id": "09505260",
   "metadata": {
    "ExecuteTime": {
     "end_time": "2024-09-09T02:28:50.025251Z",
     "start_time": "2024-09-09T02:28:50.016285Z"
    }
   },
   "outputs": [
    {
     "data": {
      "text/plain": [
       "(3196,)"
      ]
     },
     "execution_count": 28,
     "metadata": {},
     "output_type": "execute_result"
    }
   ],
   "source": [
    "uplift_vals.shape"
   ]
  },
  {
   "cell_type": "code",
   "execution_count": 29,
   "id": "b024feb4",
   "metadata": {
    "ExecuteTime": {
     "end_time": "2024-09-09T02:28:50.621307Z",
     "start_time": "2024-09-09T02:28:50.611813Z"
    }
   },
   "outputs": [
    {
     "data": {
      "text/plain": [
       "8348     0.036749\n",
       "6137     0.074309\n",
       "5198     0.065669\n",
       "11830    0.065342\n",
       "7148     0.064211\n",
       "dtype: float64"
      ]
     },
     "execution_count": 29,
     "metadata": {},
     "output_type": "execute_result"
    }
   ],
   "source": [
    "uplift_vals.head()"
   ]
  },
  {
   "cell_type": "code",
   "execution_count": 30,
   "id": "fbace270",
   "metadata": {
    "ExecuteTime": {
     "end_time": "2024-09-09T02:28:54.213707Z",
     "start_time": "2024-09-09T02:28:53.941924Z"
    },
    "scrolled": false
   },
   "outputs": [
    {
     "data": {
      "image/png": "[encoded data removed]",
      "text/plain": [
       "<Figure size 720x576 with 1 Axes>"
      ]
     },
     "metadata": {
      "needs_background": "light"
     },
     "output_type": "display_data"
    },
    {
     "data": {
      "text/plain": [
       "0.009967477639333339"
      ]
     },
     "execution_count": 30,
     "metadata": {},
     "output_type": "execute_result"
    }
   ],
   "source": [
    "qini_df(df_test, print_optimum=True)"
   ]
  },
  {
   "cell_type": "markdown",
   "id": "33b0cd41",
   "metadata": {},
   "source": [
    "### Библиотека Causal ML"
   ]
  },
  {
   "cell_type": "code",
   "execution_count": 31,
   "id": "217b4668",
   "metadata": {
    "ExecuteTime": {
     "end_time": "2024-09-09T02:28:57.384028Z",
     "start_time": "2024-09-09T02:28:57.379560Z"
    }
   },
   "outputs": [],
   "source": [
    "# !pip install causalml"
   ]
  },
  {
   "cell_type": "markdown",
   "id": "3165b2db",
   "metadata": {},
   "source": [
    "#### S-learner"
   ]
  },
  {
   "cell_type": "code",
   "execution_count": 32,
   "id": "f9fc5ddb",
   "metadata": {
    "ExecuteTime": {
     "end_time": "2024-09-09T02:29:03.153714Z",
     "start_time": "2024-09-09T02:28:58.947607Z"
    }
   },
   "outputs": [],
   "source": [
    "from causalml.inference.meta import BaseSClassifier"
   ]
  },
  {
   "cell_type": "code",
   "execution_count": 33,
   "id": "f1289d93",
   "metadata": {
    "ExecuteTime": {
     "end_time": "2024-09-09T02:29:04.042015Z",
     "start_time": "2024-09-09T02:29:04.036160Z"
    }
   },
   "outputs": [],
   "source": [
    "s_learner = BaseSClassifier(\n",
    "    learner=LogisticRegression(random_state=1, max_iter=100_000, verbose=0)\n",
    ")"
   ]
  },
  {
   "cell_type": "code",
   "execution_count": 34,
   "id": "151b97f8",
   "metadata": {
    "ExecuteTime": {
     "end_time": "2024-09-09T02:29:04.979324Z",
     "start_time": "2024-09-09T02:29:04.626169Z"
    }
   },
   "outputs": [],
   "source": [
    "# для обучения нам нужны датафрейм с факторами и колонка с фактом воздействия\n",
    "s_learner.fit(\n",
    "    X=df_train[feature_cols],\n",
    "    treatment=df_train[treatment_col],\n",
    "    y=df_train[target_col],\n",
    ")"
   ]
  },
  {
   "cell_type": "code",
   "execution_count": 35,
   "id": "a86c5efc",
   "metadata": {
    "ExecuteTime": {
     "end_time": "2024-09-09T02:29:05.601441Z",
     "start_time": "2024-09-09T02:29:05.587487Z"
    }
   },
   "outputs": [],
   "source": [
    "uplift_vals = s_learner.predict(np.array(df_test[feature_cols].values.copy()))"
   ]
  },
  {
   "cell_type": "code",
   "execution_count": 36,
   "id": "1a4031e9",
   "metadata": {
    "ExecuteTime": {
     "end_time": "2024-09-09T02:29:06.348152Z",
     "start_time": "2024-09-09T02:29:06.340076Z"
    }
   },
   "outputs": [
    {
     "data": {
      "text/plain": [
       "(3196, 1)"
      ]
     },
     "execution_count": 36,
     "metadata": {},
     "output_type": "execute_result"
    }
   ],
   "source": [
    "uplift_vals.shape"
   ]
  },
  {
   "cell_type": "code",
   "execution_count": 37,
   "id": "e34efe85",
   "metadata": {
    "ExecuteTime": {
     "end_time": "2024-09-09T02:29:07.168806Z",
     "start_time": "2024-09-09T02:29:07.160136Z"
    }
   },
   "outputs": [
    {
     "data": {
      "text/plain": [
       "array([[0.06509367],\n",
       "       [0.07042173],\n",
       "       [0.07063039],\n",
       "       ...,\n",
       "       [0.05428119],\n",
       "       [0.0423286 ],\n",
       "       [0.07178269]])"
      ]
     },
     "execution_count": 37,
     "metadata": {},
     "output_type": "execute_result"
    }
   ],
   "source": [
    "uplift_vals"
   ]
  },
  {
   "cell_type": "code",
   "execution_count": 38,
   "id": "ae9ce45f",
   "metadata": {
    "ExecuteTime": {
     "end_time": "2024-09-09T02:29:08.401020Z",
     "start_time": "2024-09-09T02:29:08.394544Z"
    }
   },
   "outputs": [],
   "source": [
    "df_test['uplift_score'] = uplift_vals"
   ]
  },
  {
   "cell_type": "code",
   "execution_count": 39,
   "id": "b7a835a8",
   "metadata": {
    "ExecuteTime": {
     "end_time": "2024-09-09T02:29:09.520197Z",
     "start_time": "2024-09-09T02:29:09.250711Z"
    }
   },
   "outputs": [
    {
     "data": {
      "image/png": "[encoded data removed]",
      "text/plain": [
       "<Figure size 720x576 with 1 Axes>"
      ]
     },
     "metadata": {},
     "output_type": "display_data"
    },
    {
     "data": {
      "text/plain": [
       "0.007191009557359775"
      ]
     },
     "execution_count": 39,
     "metadata": {},
     "output_type": "execute_result"
    }
   ],
   "source": [
    "qini_df(df_test, print_optimum=True)"
   ]
  },
  {
   "cell_type": "markdown",
   "id": "e663893a",
   "metadata": {},
   "source": [
    "#### T-learner"
   ]
  },
  {
   "cell_type": "code",
   "execution_count": 40,
   "id": "d1b0cb76",
   "metadata": {
    "ExecuteTime": {
     "end_time": "2024-09-09T02:29:13.693972Z",
     "start_time": "2024-09-09T02:29:13.688469Z"
    }
   },
   "outputs": [],
   "source": [
    "from causalml.inference.meta import BaseTClassifier"
   ]
  },
  {
   "cell_type": "code",
   "execution_count": 41,
   "id": "fc83670c",
   "metadata": {
    "ExecuteTime": {
     "end_time": "2024-09-09T02:29:14.480670Z",
     "start_time": "2024-09-09T02:29:14.474046Z"
    }
   },
   "outputs": [],
   "source": [
    "t_learner = BaseTClassifier(\n",
    "    learner=LogisticRegression(random_state=1, max_iter=100_000, verbose=0)\n",
    ")"
   ]
  },
  {
   "cell_type": "code",
   "execution_count": 42,
   "id": "05d51a52",
   "metadata": {
    "ExecuteTime": {
     "end_time": "2024-09-09T02:29:15.721783Z",
     "start_time": "2024-09-09T02:29:15.220045Z"
    }
   },
   "outputs": [],
   "source": [
    "# для обучения нам нужны датафрейм с факторами и колонка с фактом воздействия\n",
    "t_learner.fit(\n",
    "    X=df_train[feature_cols],\n",
    "    treatment=df_train[treatment_col],\n",
    "    y=df_train[target_col]\n",
    ")"
   ]
  },
  {
   "cell_type": "code",
   "execution_count": 43,
   "id": "ffd5ef2f",
   "metadata": {
    "ExecuteTime": {
     "end_time": "2024-09-09T02:29:16.444147Z",
     "start_time": "2024-09-09T02:29:16.430411Z"
    }
   },
   "outputs": [],
   "source": [
    "uplift_vals = t_learner.predict(np.array(df_test[feature_cols].values.copy()))"
   ]
  },
  {
   "cell_type": "code",
   "execution_count": 44,
   "id": "81ab6c88",
   "metadata": {
    "ExecuteTime": {
     "end_time": "2024-09-09T02:29:17.232587Z",
     "start_time": "2024-09-09T02:29:17.222980Z"
    }
   },
   "outputs": [
    {
     "data": {
      "text/plain": [
       "(3196, 1)"
      ]
     },
     "execution_count": 44,
     "metadata": {},
     "output_type": "execute_result"
    }
   ],
   "source": [
    "uplift_vals.shape"
   ]
  },
  {
   "cell_type": "code",
   "execution_count": 45,
   "id": "89bfda8a",
   "metadata": {
    "ExecuteTime": {
     "end_time": "2024-09-09T02:29:17.973485Z",
     "start_time": "2024-09-09T02:29:17.962548Z"
    }
   },
   "outputs": [
    {
     "data": {
      "text/plain": [
       "array([[0.03564954],\n",
       "       [0.07373987],\n",
       "       [0.06509747],\n",
       "       ...,\n",
       "       [0.05584663],\n",
       "       [0.07095049],\n",
       "       [0.09431702]])"
      ]
     },
     "execution_count": 45,
     "metadata": {},
     "output_type": "execute_result"
    }
   ],
   "source": [
    "uplift_vals"
   ]
  },
  {
   "cell_type": "code",
   "execution_count": 46,
   "id": "5d7d39e0",
   "metadata": {
    "ExecuteTime": {
     "end_time": "2024-09-09T02:29:20.045836Z",
     "start_time": "2024-09-09T02:29:20.040788Z"
    }
   },
   "outputs": [],
   "source": [
    "df_test['uplift_score'] = uplift_vals"
   ]
  },
  {
   "cell_type": "code",
   "execution_count": 47,
   "id": "d06bf864",
   "metadata": {
    "ExecuteTime": {
     "end_time": "2024-09-09T02:29:22.201962Z",
     "start_time": "2024-09-09T02:29:21.941184Z"
    },
    "scrolled": false
   },
   "outputs": [
    {
     "data": {
      "image/png": "[encoded data removed]",
      "text/plain": [
       "<Figure size 720x576 with 1 Axes>"
      ]
     },
     "metadata": {},
     "output_type": "display_data"
    },
    {
     "data": {
      "text/plain": [
       "0.010087308278696368"
      ]
     },
     "execution_count": 47,
     "metadata": {},
     "output_type": "execute_result"
    }
   ],
   "source": [
    "qini_df(df_test, print_optimum=True)"
   ]
  },
  {
   "cell_type": "markdown",
   "id": "2abf9529",
   "metadata": {},
   "source": [
    "---"
   ]
  },
  {
   "cell_type": "markdown",
   "id": "2027fe4f",
   "metadata": {},
   "source": [
    "## Продвинутые методы uplift-моделирования"
   ]
  },
  {
   "cell_type": "markdown",
   "id": "04686396",
   "metadata": {},
   "source": [
    "### Preprocess"
   ]
  },
  {
   "cell_type": "markdown",
   "id": "9352d0e6",
   "metadata": {},
   "source": [
    "#### Data"
   ]
  },
  {
   "cell_type": "markdown",
   "id": "155501eb",
   "metadata": {},
   "source": [
    "Данные можете взять отсюда: https://storage.yandexcloud.net/mle-data/sprint-5/discountuplift.csv."
   ]
  },
  {
   "cell_type": "code",
   "execution_count": 4,
   "id": "6b2807ff",
   "metadata": {
    "ExecuteTime": {
     "end_time": "2024-09-09T02:29:44.922822Z",
     "start_time": "2024-09-09T02:29:44.866520Z"
    }
   },
   "outputs": [],
   "source": [
    "# загружаем DataFrame\n",
    "\n",
    "df = pd.read_csv(\"discountuplift.csv\", sep=\"\\t\")"
   ]
  },
  {
   "cell_type": "code",
   "execution_count": 5,
   "id": "78b40381",
   "metadata": {
    "ExecuteTime": {
     "end_time": "2024-09-09T02:29:45.531690Z",
     "start_time": "2024-09-09T02:29:45.521480Z"
    }
   },
   "outputs": [
    {
     "data": {
      "text/plain": [
       "(12784, 18)"
      ]
     },
     "execution_count": 5,
     "metadata": {},
     "output_type": "execute_result"
    }
   ],
   "source": [
    "df.shape"
   ]
  },
  {
   "cell_type": "code",
   "execution_count": 6,
   "id": "4882bb80",
   "metadata": {
    "ExecuteTime": {
     "end_time": "2024-09-09T02:29:46.261717Z",
     "start_time": "2024-09-09T02:29:46.234561Z"
    }
   },
   "outputs": [
    {
     "data": {
      "text/html": [
       "<div>\n",
       "<style scoped>\n",
       "    .dataframe tbody tr th:only-of-type {\n",
       "        vertical-align: middle;\n",
       "    }\n",
       "\n",
       "    .dataframe tbody tr th {\n",
       "        vertical-align: top;\n",
       "    }\n",
       "\n",
       "    .dataframe thead th {\n",
       "        text-align: right;\n",
       "    }\n",
       "</style>\n",
       "<table border=\"1\" class=\"dataframe\">\n",
       "  <thead>\n",
       "    <tr style=\"text-align: right;\">\n",
       "      <th></th>\n",
       "      <th>recency</th>\n",
       "      <th>history</th>\n",
       "      <th>used_discount</th>\n",
       "      <th>used_bogo</th>\n",
       "      <th>is_referral</th>\n",
       "      <th>treatment</th>\n",
       "      <th>zip_code_Rural</th>\n",
       "      <th>zip_code_Surburban</th>\n",
       "      <th>zip_code_Urban</th>\n",
       "      <th>channel_Multichannel</th>\n",
       "      <th>channel_Phone</th>\n",
       "      <th>channel_Web</th>\n",
       "      <th>proba_CN</th>\n",
       "      <th>proba_CR</th>\n",
       "      <th>proba_TN</th>\n",
       "      <th>proba_TR</th>\n",
       "      <th>uplift_score</th>\n",
       "      <th>target_class</th>\n",
       "    </tr>\n",
       "  </thead>\n",
       "  <tbody>\n",
       "    <tr>\n",
       "      <th>0</th>\n",
       "      <td>3</td>\n",
       "      <td>977.51</td>\n",
       "      <td>1</td>\n",
       "      <td>1</td>\n",
       "      <td>1</td>\n",
       "      <td>0</td>\n",
       "      <td>0</td>\n",
       "      <td>0</td>\n",
       "      <td>1</td>\n",
       "      <td>0</td>\n",
       "      <td>0</td>\n",
       "      <td>1</td>\n",
       "      <td>0.476095</td>\n",
       "      <td>0.159710</td>\n",
       "      <td>0.280660</td>\n",
       "      <td>0.083534</td>\n",
       "      <td>-0.043654</td>\n",
       "      <td>0</td>\n",
       "    </tr>\n",
       "    <tr>\n",
       "      <th>1</th>\n",
       "      <td>4</td>\n",
       "      <td>391.10</td>\n",
       "      <td>1</td>\n",
       "      <td>0</td>\n",
       "      <td>0</td>\n",
       "      <td>0</td>\n",
       "      <td>1</td>\n",
       "      <td>0</td>\n",
       "      <td>0</td>\n",
       "      <td>1</td>\n",
       "      <td>0</td>\n",
       "      <td>0</td>\n",
       "      <td>0.443035</td>\n",
       "      <td>0.087289</td>\n",
       "      <td>0.285081</td>\n",
       "      <td>0.184594</td>\n",
       "      <td>0.456858</td>\n",
       "      <td>0</td>\n",
       "    </tr>\n",
       "    <tr>\n",
       "      <th>2</th>\n",
       "      <td>7</td>\n",
       "      <td>72.37</td>\n",
       "      <td>1</td>\n",
       "      <td>0</td>\n",
       "      <td>1</td>\n",
       "      <td>1</td>\n",
       "      <td>0</td>\n",
       "      <td>0</td>\n",
       "      <td>1</td>\n",
       "      <td>0</td>\n",
       "      <td>0</td>\n",
       "      <td>1</td>\n",
       "      <td>0.514386</td>\n",
       "      <td>0.015488</td>\n",
       "      <td>0.429174</td>\n",
       "      <td>0.040952</td>\n",
       "      <td>0.115756</td>\n",
       "      <td>2</td>\n",
       "    </tr>\n",
       "    <tr>\n",
       "      <th>3</th>\n",
       "      <td>10</td>\n",
       "      <td>67.40</td>\n",
       "      <td>1</td>\n",
       "      <td>0</td>\n",
       "      <td>0</td>\n",
       "      <td>1</td>\n",
       "      <td>0</td>\n",
       "      <td>0</td>\n",
       "      <td>1</td>\n",
       "      <td>0</td>\n",
       "      <td>0</td>\n",
       "      <td>1</td>\n",
       "      <td>0.386800</td>\n",
       "      <td>0.125233</td>\n",
       "      <td>0.415839</td>\n",
       "      <td>0.072128</td>\n",
       "      <td>-0.193534</td>\n",
       "      <td>2</td>\n",
       "    </tr>\n",
       "    <tr>\n",
       "      <th>4</th>\n",
       "      <td>2</td>\n",
       "      <td>45.68</td>\n",
       "      <td>1</td>\n",
       "      <td>0</td>\n",
       "      <td>1</td>\n",
       "      <td>1</td>\n",
       "      <td>0</td>\n",
       "      <td>0</td>\n",
       "      <td>1</td>\n",
       "      <td>0</td>\n",
       "      <td>1</td>\n",
       "      <td>0</td>\n",
       "      <td>0.517491</td>\n",
       "      <td>0.022507</td>\n",
       "      <td>0.412372</td>\n",
       "      <td>0.047630</td>\n",
       "      <td>0.123726</td>\n",
       "      <td>2</td>\n",
       "    </tr>\n",
       "  </tbody>\n",
       "</table>\n",
       "</div>"
      ],
      "text/plain": [
       "   recency  history  used_discount  used_bogo  is_referral  treatment  \\\n",
       "0        3   977.51              1          1            1          0   \n",
       "1        4   391.10              1          0            0          0   \n",
       "2        7    72.37              1          0            1          1   \n",
       "3       10    67.40              1          0            0          1   \n",
       "4        2    45.68              1          0            1          1   \n",
       "\n",
       "   zip_code_Rural  zip_code_Surburban  zip_code_Urban  channel_Multichannel  \\\n",
       "0               0                   0               1                     0   \n",
       "1               1                   0               0                     1   \n",
       "2               0                   0               1                     0   \n",
       "3               0                   0               1                     0   \n",
       "4               0                   0               1                     0   \n",
       "\n",
       "   channel_Phone  channel_Web  proba_CN  proba_CR  proba_TN  proba_TR  \\\n",
       "0              0            1  0.476095  0.159710  0.280660  0.083534   \n",
       "1              0            0  0.443035  0.087289  0.285081  0.184594   \n",
       "2              0            1  0.514386  0.015488  0.429174  0.040952   \n",
       "3              0            1  0.386800  0.125233  0.415839  0.072128   \n",
       "4              1            0  0.517491  0.022507  0.412372  0.047630   \n",
       "\n",
       "   uplift_score  target_class  \n",
       "0     -0.043654             0  \n",
       "1      0.456858             0  \n",
       "2      0.115756             2  \n",
       "3     -0.193534             2  \n",
       "4      0.123726             2  "
      ]
     },
     "execution_count": 6,
     "metadata": {},
     "output_type": "execute_result"
    }
   ],
   "source": [
    "df.head()"
   ]
  },
  {
   "cell_type": "markdown",
   "id": "6bff3fbd",
   "metadata": {
    "ExecuteTime": {
     "end_time": "2024-08-27T01:54:29.889659Z",
     "start_time": "2024-08-27T01:54:29.879935Z"
    }
   },
   "source": [
    "Первое, что нужно сделать, — явно выделить колонки с целевой переменной, факторами и целевым воздействием.\n",
    "\n",
    "Расшифровка `target_class`:\n",
    "\n",
    "- `0` — контрольная выборка, не купили товар ($y_c=0$, в наших терминах)\n",
    "- `1` — контрольная выборка, купили товар ($y_c=1$, в наших терминах)\n",
    "- `2` — выборка с воздействием (скидка), не купили товар ($y_t=0$, в наших терминах);\n",
    "- `3` — выборка с воздействием (скидка), купили товар ($y_t=1$, в наших терминах)."
   ]
  },
  {
   "cell_type": "markdown",
   "id": "2dd997f3",
   "metadata": {},
   "source": [
    "#### Preprocess"
   ]
  },
  {
   "cell_type": "code",
   "execution_count": 7,
   "id": "9e69b35b",
   "metadata": {
    "ExecuteTime": {
     "end_time": "2024-09-09T02:29:47.930622Z",
     "start_time": "2024-09-09T02:29:47.921840Z"
    }
   },
   "outputs": [],
   "source": [
    "# добавим признак `old target` — принимает значение 1, если была покупка, и 0 в противном случае\n",
    "df['old_target'] = df['target_class'] % 2\n",
    "\n",
    "# выделим колонки с факторами и колонку с фактом «целевого воздействия» — выдачи скидки\n",
    "feature_cols = ['recency', 'history', 'used_discount', 'used_bogo', 'is_referral',\n",
    "                'zip_code_Rural', 'zip_code_Surburban', 'zip_code_Urban',\n",
    "                'channel_Multichannel', 'channel_Phone', 'channel_Web']"
   ]
  },
  {
   "cell_type": "code",
   "execution_count": 8,
   "id": "1a43661c",
   "metadata": {
    "ExecuteTime": {
     "end_time": "2024-09-09T02:29:48.805018Z",
     "start_time": "2024-09-09T02:29:48.798871Z"
    }
   },
   "outputs": [],
   "source": [
    "target_col = 'old_target'\n",
    "treatment_col = 'treatment' "
   ]
  },
  {
   "cell_type": "markdown",
   "id": "d1902a8a",
   "metadata": {},
   "source": [
    "Сколько объектов с классом 1 в целевой переменной?"
   ]
  },
  {
   "cell_type": "code",
   "execution_count": 9,
   "id": "ab20a8fc",
   "metadata": {
    "ExecuteTime": {
     "end_time": "2024-09-09T02:29:49.770084Z",
     "start_time": "2024-09-09T02:29:49.760052Z"
    }
   },
   "outputs": [
    {
     "data": {
      "text/plain": [
       "1878"
      ]
     },
     "execution_count": 9,
     "metadata": {},
     "output_type": "execute_result"
    }
   ],
   "source": [
    "df[target_col].sum()"
   ]
  },
  {
   "cell_type": "code",
   "execution_count": 10,
   "id": "9a819d31",
   "metadata": {
    "ExecuteTime": {
     "end_time": "2024-09-09T02:29:50.366157Z",
     "start_time": "2024-09-09T02:29:50.346952Z"
    }
   },
   "outputs": [
    {
     "data": {
      "text/html": [
       "<div>\n",
       "<style scoped>\n",
       "    .dataframe tbody tr th:only-of-type {\n",
       "        vertical-align: middle;\n",
       "    }\n",
       "\n",
       "    .dataframe tbody tr th {\n",
       "        vertical-align: top;\n",
       "    }\n",
       "\n",
       "    .dataframe thead th {\n",
       "        text-align: right;\n",
       "    }\n",
       "</style>\n",
       "<table border=\"1\" class=\"dataframe\">\n",
       "  <thead>\n",
       "    <tr style=\"text-align: right;\">\n",
       "      <th></th>\n",
       "      <th>count</th>\n",
       "      <th>proportion</th>\n",
       "    </tr>\n",
       "    <tr>\n",
       "      <th>old_target</th>\n",
       "      <th></th>\n",
       "      <th></th>\n",
       "    </tr>\n",
       "  </thead>\n",
       "  <tbody>\n",
       "    <tr>\n",
       "      <th>0</th>\n",
       "      <td>10906</td>\n",
       "      <td>0.853098</td>\n",
       "    </tr>\n",
       "    <tr>\n",
       "      <th>1</th>\n",
       "      <td>1878</td>\n",
       "      <td>0.146902</td>\n",
       "    </tr>\n",
       "  </tbody>\n",
       "</table>\n",
       "</div>"
      ],
      "text/plain": [
       "            count  proportion\n",
       "old_target                   \n",
       "0           10906    0.853098\n",
       "1            1878    0.146902"
      ]
     },
     "execution_count": 10,
     "metadata": {},
     "output_type": "execute_result"
    }
   ],
   "source": [
    "pd.concat([df[target_col].value_counts(), df[target_col].value_counts(normalize=True)], axis=1)"
   ]
  },
  {
   "cell_type": "markdown",
   "id": "e32f9ba9",
   "metadata": {},
   "source": [
    "Разобъем выборку на тренировочную и тестовую "
   ]
  },
  {
   "cell_type": "code",
   "execution_count": 11,
   "id": "8c84470b",
   "metadata": {
    "ExecuteTime": {
     "end_time": "2024-09-09T02:29:51.623406Z",
     "start_time": "2024-09-09T02:29:51.495358Z"
    }
   },
   "outputs": [],
   "source": [
    "df_train, df_test = train_test_split(\n",
    "    df,\n",
    "    stratify=df[[treatment_col, target_col]],\n",
    "    random_state=1,\n",
    "    test_size=0.25,\n",
    ")"
   ]
  },
  {
   "cell_type": "markdown",
   "id": "1983a5f3",
   "metadata": {},
   "source": [
    "Чему равна доля значений 1 в целевой переменной из тренировочного датасета? "
   ]
  },
  {
   "cell_type": "code",
   "execution_count": 12,
   "id": "0ae475a5",
   "metadata": {
    "ExecuteTime": {
     "end_time": "2024-09-09T02:29:52.586918Z",
     "start_time": "2024-09-09T02:29:52.573924Z"
    }
   },
   "outputs": [
    {
     "data": {
      "text/plain": [
       "old_target\n",
       "0    0.85315\n",
       "1    0.14685\n",
       "Name: proportion, dtype: float64"
      ]
     },
     "execution_count": 12,
     "metadata": {},
     "output_type": "execute_result"
    }
   ],
   "source": [
    "df_train[target_col].value_counts(normalize=True)"
   ]
  },
  {
   "cell_type": "code",
   "execution_count": 13,
   "id": "a9cba10b",
   "metadata": {
    "ExecuteTime": {
     "end_time": "2024-09-09T02:29:53.225951Z",
     "start_time": "2024-09-09T02:29:53.213109Z"
    }
   },
   "outputs": [
    {
     "data": {
      "text/plain": [
       "old_target\n",
       "0    0.852941\n",
       "1    0.147059\n",
       "Name: proportion, dtype: float64"
      ]
     },
     "execution_count": 13,
     "metadata": {},
     "output_type": "execute_result"
    }
   ],
   "source": [
    "df_test[target_col].value_counts(normalize=True)"
   ]
  },
  {
   "cell_type": "markdown",
   "id": "6f75d645",
   "metadata": {},
   "source": [
    "### X-learner"
   ]
  },
  {
   "cell_type": "code",
   "execution_count": 14,
   "id": "aa8b1c17",
   "metadata": {
    "ExecuteTime": {
     "end_time": "2024-09-09T02:29:59.093891Z",
     "start_time": "2024-09-09T02:29:54.149818Z"
    }
   },
   "outputs": [],
   "source": [
    "from causalml.inference.meta import BaseXClassifier"
   ]
  },
  {
   "cell_type": "code",
   "execution_count": 15,
   "id": "bf9fdced",
   "metadata": {
    "ExecuteTime": {
     "end_time": "2024-09-09T02:29:59.798340Z",
     "start_time": "2024-09-09T02:29:59.793301Z"
    }
   },
   "outputs": [],
   "source": [
    "# создадим базовый X-learner\n",
    "\n",
    "x_learner = BaseXClassifier(\n",
    "    outcome_learner=LogisticRegression(max_iter=1_000_000, random_state=13),\n",
    "    effect_learner=LinearRegression(),\n",
    ")"
   ]
  },
  {
   "cell_type": "code",
   "execution_count": 16,
   "id": "d5f7b677",
   "metadata": {
    "ExecuteTime": {
     "end_time": "2024-09-09T02:30:17.607078Z",
     "start_time": "2024-09-09T02:30:00.527398Z"
    }
   },
   "outputs": [
    {
     "name": "stderr",
     "output_type": "stream",
     "text": [
      "The max_iter was reached which means the coef_ did not converge\n",
      "The max_iter was reached which means the coef_ did not converge\n",
      "The max_iter was reached which means the coef_ did not converge\n",
      "The max_iter was reached which means the coef_ did not converge\n",
      "The max_iter was reached which means the coef_ did not converge\n",
      "The max_iter was reached which means the coef_ did not converge\n",
      "The max_iter was reached which means the coef_ did not converge\n",
      "The max_iter was reached which means the coef_ did not converge\n",
      "The max_iter was reached which means the coef_ did not converge\n",
      "The max_iter was reached which means the coef_ did not converge\n",
      "The max_iter was reached which means the coef_ did not converge\n",
      "The max_iter was reached which means the coef_ did not converge\n",
      "The max_iter was reached which means the coef_ did not converge\n",
      "The max_iter was reached which means the coef_ did not converge\n",
      "The max_iter was reached which means the coef_ did not converge\n",
      "The max_iter was reached which means the coef_ did not converge\n",
      "The max_iter was reached which means the coef_ did not converge\n"
     ]
    }
   ],
   "source": [
    "# для обучения нам нужны датафрейм с факторами и колонка с фактом воздействия\n",
    "x_learner.fit(\n",
    "    X=df_train[feature_cols],\n",
    "    treatment=df_train[treatment_col],\n",
    "    y=df_train[target_col],\n",
    ")"
   ]
  },
  {
   "cell_type": "code",
   "execution_count": 17,
   "id": "798b5f89",
   "metadata": {
    "ExecuteTime": {
     "end_time": "2024-09-09T02:30:19.340133Z",
     "start_time": "2024-09-09T02:30:19.323703Z"
    }
   },
   "outputs": [],
   "source": [
    "uplift_vals = x_learner.predict(np.array(df_test[feature_cols].values.copy()))"
   ]
  },
  {
   "cell_type": "code",
   "execution_count": 18,
   "id": "e9b6ce2d",
   "metadata": {
    "ExecuteTime": {
     "end_time": "2024-09-09T02:30:19.971599Z",
     "start_time": "2024-09-09T02:30:19.964078Z"
    }
   },
   "outputs": [
    {
     "data": {
      "text/plain": [
       "(3196, 1)"
      ]
     },
     "execution_count": 18,
     "metadata": {},
     "output_type": "execute_result"
    }
   ],
   "source": [
    "uplift_vals.shape"
   ]
  },
  {
   "cell_type": "code",
   "execution_count": 19,
   "id": "07509389",
   "metadata": {
    "ExecuteTime": {
     "end_time": "2024-09-09T02:30:20.635738Z",
     "start_time": "2024-09-09T02:30:20.628122Z"
    }
   },
   "outputs": [
    {
     "data": {
      "text/plain": [
       "array([[0.02142142],\n",
       "       [0.07179297],\n",
       "       [0.06358299],\n",
       "       ...,\n",
       "       [0.05321857],\n",
       "       [0.08256778],\n",
       "       [0.0900808 ]])"
      ]
     },
     "execution_count": 19,
     "metadata": {},
     "output_type": "execute_result"
    }
   ],
   "source": [
    "uplift_vals"
   ]
  },
  {
   "cell_type": "code",
   "execution_count": 20,
   "id": "47a868f1",
   "metadata": {
    "ExecuteTime": {
     "end_time": "2024-09-09T02:30:21.418814Z",
     "start_time": "2024-09-09T02:30:21.412458Z"
    }
   },
   "outputs": [],
   "source": [
    "df_test['uplift_score'] = uplift_vals"
   ]
  },
  {
   "cell_type": "code",
   "execution_count": 21,
   "id": "74e5ff15",
   "metadata": {
    "ExecuteTime": {
     "end_time": "2024-09-09T02:30:24.589608Z",
     "start_time": "2024-09-09T02:30:24.304715Z"
    }
   },
   "outputs": [
    {
     "data": {
      "image/png": "[encoded data removed]",
      "text/plain": [
       "<Figure size 720x576 with 1 Axes>"
      ]
     },
     "metadata": {
      "needs_background": "light"
     },
     "output_type": "display_data"
    },
    {
     "data": {
      "text/plain": [
       "0.008255681291896536"
      ]
     },
     "execution_count": 21,
     "metadata": {},
     "output_type": "execute_result"
    }
   ],
   "source": [
    "qini_df(df_test, print_optimum=True)"
   ]
  },
  {
   "cell_type": "markdown",
   "id": "80a74136",
   "metadata": {},
   "source": [
    "### R-learner"
   ]
  },
  {
   "cell_type": "code",
   "execution_count": 22,
   "id": "297079dc",
   "metadata": {
    "ExecuteTime": {
     "end_time": "2024-09-09T02:30:26.695489Z",
     "start_time": "2024-09-09T02:30:26.690759Z"
    }
   },
   "outputs": [],
   "source": [
    "from causalml.inference.meta import BaseRClassifier"
   ]
  },
  {
   "cell_type": "code",
   "execution_count": 23,
   "id": "d539a236",
   "metadata": {
    "ExecuteTime": {
     "end_time": "2024-09-09T02:30:27.518377Z",
     "start_time": "2024-09-09T02:30:27.512677Z"
    }
   },
   "outputs": [],
   "source": [
    "# создадим базовый R-learner\n",
    "\n",
    "r_learner = BaseRClassifier(\n",
    "    outcome_learner=LogisticRegression(max_iter=1_000_000, random_state=13),\n",
    "    effect_learner=LinearRegression(),\n",
    ")"
   ]
  },
  {
   "cell_type": "code",
   "execution_count": 24,
   "id": "0919383b",
   "metadata": {
    "ExecuteTime": {
     "end_time": "2024-09-09T02:30:52.110300Z",
     "start_time": "2024-09-09T02:30:28.306112Z"
    }
   },
   "outputs": [
    {
     "name": "stderr",
     "output_type": "stream",
     "text": [
      "The max_iter was reached which means the coef_ did not converge\n",
      "The max_iter was reached which means the coef_ did not converge\n",
      "The max_iter was reached which means the coef_ did not converge\n",
      "The max_iter was reached which means the coef_ did not converge\n",
      "The max_iter was reached which means the coef_ did not converge\n",
      "The max_iter was reached which means the coef_ did not converge\n",
      "The max_iter was reached which means the coef_ did not converge\n",
      "The max_iter was reached which means the coef_ did not converge\n",
      "The max_iter was reached which means the coef_ did not converge\n",
      "The max_iter was reached which means the coef_ did not converge\n",
      "The max_iter was reached which means the coef_ did not converge\n",
      "The max_iter was reached which means the coef_ did not converge\n",
      "The max_iter was reached which means the coef_ did not converge\n",
      "The max_iter was reached which means the coef_ did not converge\n",
      "The max_iter was reached which means the coef_ did not converge\n",
      "The max_iter was reached which means the coef_ did not converge\n",
      "The max_iter was reached which means the coef_ did not converge\n"
     ]
    }
   ],
   "source": [
    "# для обучения нам нужны датафрейм с факторами и колонка с фактом воздействия\n",
    "r_learner.fit(\n",
    "    X=df_train[feature_cols],\n",
    "    treatment=df_train[treatment_col],\n",
    "    y=df_train[target_col],\n",
    ")"
   ]
  },
  {
   "cell_type": "code",
   "execution_count": 25,
   "id": "39671717",
   "metadata": {
    "ExecuteTime": {
     "end_time": "2024-09-09T02:30:53.765385Z",
     "start_time": "2024-09-09T02:30:53.751681Z"
    }
   },
   "outputs": [],
   "source": [
    "uplift_vals = r_learner.predict(np.array(df_test[feature_cols].values.copy()))"
   ]
  },
  {
   "cell_type": "code",
   "execution_count": 26,
   "id": "aeb7c7e6",
   "metadata": {
    "ExecuteTime": {
     "end_time": "2024-09-09T02:30:54.367478Z",
     "start_time": "2024-09-09T02:30:54.359421Z"
    }
   },
   "outputs": [
    {
     "data": {
      "text/plain": [
       "(3196, 1)"
      ]
     },
     "execution_count": 26,
     "metadata": {},
     "output_type": "execute_result"
    }
   ],
   "source": [
    "uplift_vals.shape"
   ]
  },
  {
   "cell_type": "code",
   "execution_count": 27,
   "id": "abb67f75",
   "metadata": {
    "ExecuteTime": {
     "end_time": "2024-09-09T02:30:55.009557Z",
     "start_time": "2024-09-09T02:30:55.000720Z"
    }
   },
   "outputs": [
    {
     "data": {
      "text/plain": [
       "array([[0.02098655],\n",
       "       [0.07241932],\n",
       "       [0.06455629],\n",
       "       ...,\n",
       "       [0.05225659],\n",
       "       [0.08368418],\n",
       "       [0.09183452]])"
      ]
     },
     "execution_count": 27,
     "metadata": {},
     "output_type": "execute_result"
    }
   ],
   "source": [
    "uplift_vals"
   ]
  },
  {
   "cell_type": "code",
   "execution_count": 28,
   "id": "6c9e3edb",
   "metadata": {
    "ExecuteTime": {
     "end_time": "2024-09-09T02:30:55.728783Z",
     "start_time": "2024-09-09T02:30:55.720759Z"
    }
   },
   "outputs": [],
   "source": [
    "df_test['uplift_score'] = uplift_vals"
   ]
  },
  {
   "cell_type": "code",
   "execution_count": 29,
   "id": "050f7440",
   "metadata": {
    "ExecuteTime": {
     "end_time": "2024-09-09T02:30:56.615215Z",
     "start_time": "2024-09-09T02:30:56.338966Z"
    }
   },
   "outputs": [
    {
     "data": {
      "image/png": "[encoded data removed]",
      "text/plain": [
       "<Figure size 720x576 with 1 Axes>"
      ]
     },
     "metadata": {
      "needs_background": "light"
     },
     "output_type": "display_data"
    },
    {
     "data": {
      "text/plain": [
       "0.008169724346340376"
      ]
     },
     "execution_count": 29,
     "metadata": {},
     "output_type": "execute_result"
    }
   ],
   "source": [
    "qini_df(df_test, print_optimum=True)"
   ]
  },
  {
   "cell_type": "markdown",
   "id": "9cc3b788",
   "metadata": {},
   "source": [
    "### Uplift-деревья"
   ]
  },
  {
   "cell_type": "code",
   "execution_count": 30,
   "id": "79b06d66",
   "metadata": {
    "ExecuteTime": {
     "end_time": "2024-09-09T02:30:59.606559Z",
     "start_time": "2024-09-09T02:30:59.548658Z"
    }
   },
   "outputs": [],
   "source": [
    "from causalml.inference.tree import UpliftTreeClassifier"
   ]
  },
  {
   "cell_type": "code",
   "execution_count": 31,
   "id": "b0582c6e",
   "metadata": {
    "ExecuteTime": {
     "end_time": "2024-09-09T02:31:00.471768Z",
     "start_time": "2024-09-09T02:31:00.465385Z"
    }
   },
   "outputs": [],
   "source": [
    "# создадим базовое uplift-дерево\n",
    "uplift_model = UpliftTreeClassifier(\n",
    "    max_depth=5,\n",
    "    min_samples_leaf=200,\n",
    "    min_samples_treatment=50,\n",
    "    n_reg=100,\n",
    "    evaluationFunction='ED',\n",
    "    control_name='0',\n",
    ")"
   ]
  },
  {
   "cell_type": "code",
   "execution_count": 32,
   "id": "4af2dc5d",
   "metadata": {
    "ExecuteTime": {
     "end_time": "2024-09-09T02:31:01.586214Z",
     "start_time": "2024-09-09T02:31:01.409951Z"
    }
   },
   "outputs": [],
   "source": [
    "uplift_model.fit(\n",
    "    X=df_train[feature_cols].values,\n",
    "    treatment=df_train[treatment_col].apply(str).values,\n",
    "    y=df_train[target_col].values\n",
    ")"
   ]
  },
  {
   "cell_type": "code",
   "execution_count": 33,
   "id": "319b4bdc",
   "metadata": {
    "ExecuteTime": {
     "end_time": "2024-09-09T02:31:02.440239Z",
     "start_time": "2024-09-09T02:31:02.421769Z"
    }
   },
   "outputs": [],
   "source": [
    "uplift_vals = uplift_model.predict(np.array(df_test[feature_cols].values.copy()))"
   ]
  },
  {
   "cell_type": "code",
   "execution_count": 34,
   "id": "02e89072",
   "metadata": {
    "ExecuteTime": {
     "end_time": "2024-09-09T02:31:03.395691Z",
     "start_time": "2024-09-09T02:31:03.389311Z"
    }
   },
   "outputs": [],
   "source": [
    "df_res = pd.DataFrame(uplift_vals, columns=uplift_model.classes_)"
   ]
  },
  {
   "cell_type": "code",
   "execution_count": 35,
   "id": "c8e55e45",
   "metadata": {
    "ExecuteTime": {
     "end_time": "2024-09-09T02:31:04.166453Z",
     "start_time": "2024-09-09T02:31:04.149410Z"
    }
   },
   "outputs": [
    {
     "data": {
      "text/html": [
       "<div>\n",
       "<style scoped>\n",
       "    .dataframe tbody tr th:only-of-type {\n",
       "        vertical-align: middle;\n",
       "    }\n",
       "\n",
       "    .dataframe tbody tr th {\n",
       "        vertical-align: top;\n",
       "    }\n",
       "\n",
       "    .dataframe thead th {\n",
       "        text-align: right;\n",
       "    }\n",
       "</style>\n",
       "<table border=\"1\" class=\"dataframe\">\n",
       "  <thead>\n",
       "    <tr style=\"text-align: right;\">\n",
       "      <th></th>\n",
       "      <th>0</th>\n",
       "      <th>1</th>\n",
       "    </tr>\n",
       "  </thead>\n",
       "  <tbody>\n",
       "    <tr>\n",
       "      <th>0</th>\n",
       "      <td>0.082667</td>\n",
       "      <td>0.204724</td>\n",
       "    </tr>\n",
       "    <tr>\n",
       "      <th>1</th>\n",
       "      <td>0.124585</td>\n",
       "      <td>0.216667</td>\n",
       "    </tr>\n",
       "    <tr>\n",
       "      <th>2</th>\n",
       "      <td>0.124585</td>\n",
       "      <td>0.216667</td>\n",
       "    </tr>\n",
       "    <tr>\n",
       "      <th>3</th>\n",
       "      <td>0.124585</td>\n",
       "      <td>0.216667</td>\n",
       "    </tr>\n",
       "    <tr>\n",
       "      <th>4</th>\n",
       "      <td>0.124585</td>\n",
       "      <td>0.216667</td>\n",
       "    </tr>\n",
       "  </tbody>\n",
       "</table>\n",
       "</div>"
      ],
      "text/plain": [
       "          0         1\n",
       "0  0.082667  0.204724\n",
       "1  0.124585  0.216667\n",
       "2  0.124585  0.216667\n",
       "3  0.124585  0.216667\n",
       "4  0.124585  0.216667"
      ]
     },
     "execution_count": 35,
     "metadata": {},
     "output_type": "execute_result"
    }
   ],
   "source": [
    "df_res.head()"
   ]
  },
  {
   "cell_type": "code",
   "execution_count": 36,
   "id": "8ddf1e92",
   "metadata": {
    "ExecuteTime": {
     "end_time": "2024-09-09T02:31:04.915442Z",
     "start_time": "2024-09-09T02:31:04.906954Z"
    }
   },
   "outputs": [
    {
     "data": {
      "text/plain": [
       "(3196, 2)"
      ]
     },
     "execution_count": 36,
     "metadata": {},
     "output_type": "execute_result"
    }
   ],
   "source": [
    "uplift_vals.shape"
   ]
  },
  {
   "cell_type": "code",
   "execution_count": 37,
   "id": "e6336e48",
   "metadata": {
    "ExecuteTime": {
     "end_time": "2024-09-09T02:31:05.588217Z",
     "start_time": "2024-09-09T02:31:05.575982Z"
    }
   },
   "outputs": [
    {
     "data": {
      "text/plain": [
       "array([[0.08266667, 0.20472441],\n",
       "       [0.12458472, 0.21666667],\n",
       "       [0.12458472, 0.21666667],\n",
       "       ...,\n",
       "       [0.08860759, 0.07142857],\n",
       "       [0.07232704, 0.14936709],\n",
       "       [0.12458472, 0.21666667]])"
      ]
     },
     "execution_count": 37,
     "metadata": {},
     "output_type": "execute_result"
    }
   ],
   "source": [
    "uplift_vals"
   ]
  },
  {
   "cell_type": "code",
   "execution_count": 38,
   "id": "b302ea42",
   "metadata": {
    "ExecuteTime": {
     "end_time": "2024-09-09T02:31:06.175391Z",
     "start_time": "2024-09-09T02:31:06.167100Z"
    }
   },
   "outputs": [],
   "source": [
    "df_test['uplift_score'] = uplift_vals"
   ]
  },
  {
   "cell_type": "code",
   "execution_count": 39,
   "id": "e27f917e",
   "metadata": {
    "ExecuteTime": {
     "end_time": "2024-09-09T02:31:07.628828Z",
     "start_time": "2024-09-09T02:31:07.354142Z"
    }
   },
   "outputs": [
    {
     "data": {
      "image/png": "[encoded data removed]",
      "text/plain": [
       "<Figure size 720x576 with 1 Axes>"
      ]
     },
     "metadata": {
      "needs_background": "light"
     },
     "output_type": "display_data"
    },
    {
     "data": {
      "text/plain": [
       "0.00560462419768773"
      ]
     },
     "execution_count": 39,
     "metadata": {},
     "output_type": "execute_result"
    }
   ],
   "source": [
    "qini_df(df_test, print_optimum=True)"
   ]
  },
  {
   "cell_type": "markdown",
   "id": "8979c26d",
   "metadata": {},
   "source": [
    "---"
   ]
  },
  {
   "cell_type": "code",
   "execution_count": 40,
   "id": "57e0f985",
   "metadata": {
    "ExecuteTime": {
     "end_time": "2024-09-09T02:31:10.192826Z",
     "start_time": "2024-09-09T02:31:10.186504Z"
    }
   },
   "outputs": [],
   "source": [
    "uplift_vals = uplift_vals[:,1] - uplift_vals[:,0]"
   ]
  },
  {
   "cell_type": "code",
   "execution_count": 41,
   "id": "ca0871d2",
   "metadata": {
    "ExecuteTime": {
     "end_time": "2024-09-09T02:31:10.911522Z",
     "start_time": "2024-09-09T02:31:10.903366Z"
    }
   },
   "outputs": [
    {
     "data": {
      "text/plain": [
       "(3196,)"
      ]
     },
     "execution_count": 41,
     "metadata": {},
     "output_type": "execute_result"
    }
   ],
   "source": [
    "uplift_vals.shape"
   ]
  },
  {
   "cell_type": "code",
   "execution_count": 42,
   "id": "90ba19f7",
   "metadata": {
    "ExecuteTime": {
     "end_time": "2024-09-09T02:31:11.580620Z",
     "start_time": "2024-09-09T02:31:11.569613Z"
    }
   },
   "outputs": [
    {
     "data": {
      "text/plain": [
       "array([ 0.12205774,  0.09208195,  0.09208195, ..., -0.01717902,\n",
       "        0.07704004,  0.09208195])"
      ]
     },
     "execution_count": 42,
     "metadata": {},
     "output_type": "execute_result"
    }
   ],
   "source": [
    "uplift_vals"
   ]
  },
  {
   "cell_type": "code",
   "execution_count": 43,
   "id": "923ac976",
   "metadata": {
    "ExecuteTime": {
     "end_time": "2024-09-09T02:31:12.396519Z",
     "start_time": "2024-09-09T02:31:12.387338Z"
    }
   },
   "outputs": [],
   "source": [
    "df_test['uplift_score'] = uplift_vals"
   ]
  },
  {
   "cell_type": "code",
   "execution_count": 44,
   "id": "744e2bda",
   "metadata": {
    "ExecuteTime": {
     "end_time": "2024-09-09T02:31:13.476773Z",
     "start_time": "2024-09-09T02:31:13.255164Z"
    }
   },
   "outputs": [
    {
     "data": {
      "image/png": "[encoded data removed]",
      "text/plain": [
       "<Figure size 720x576 with 1 Axes>"
      ]
     },
     "metadata": {
      "needs_background": "light"
     },
     "output_type": "display_data"
    },
    {
     "data": {
      "text/plain": [
       "0.0047362436657023416"
      ]
     },
     "execution_count": 44,
     "metadata": {},
     "output_type": "execute_result"
    }
   ],
   "source": [
    "qini_df(df_test, print_optimum=True)"
   ]
  },
  {
   "cell_type": "markdown",
   "id": "091cd626",
   "metadata": {},
   "source": [
    "---"
   ]
  },
  {
   "cell_type": "markdown",
   "id": "c526604f",
   "metadata": {},
   "source": [
    "### Uplift-деревья default"
   ]
  },
  {
   "cell_type": "code",
   "execution_count": 45,
   "id": "c5e667bd",
   "metadata": {
    "ExecuteTime": {
     "end_time": "2024-09-09T02:31:17.466125Z",
     "start_time": "2024-09-09T02:31:17.459925Z"
    }
   },
   "outputs": [],
   "source": [
    "# создадим базовое uplift-дерево\n",
    "uplift_model = UpliftTreeClassifier(\"0\")"
   ]
  },
  {
   "cell_type": "code",
   "execution_count": 46,
   "id": "55e36d30",
   "metadata": {
    "ExecuteTime": {
     "end_time": "2024-09-09T02:31:18.283737Z",
     "start_time": "2024-09-09T02:31:18.209360Z"
    }
   },
   "outputs": [],
   "source": [
    "uplift_model.fit(\n",
    "    X=df_train[feature_cols].values,\n",
    "    treatment=df_train[treatment_col].apply(str).values,\n",
    "    y=df_train[target_col].values\n",
    ")"
   ]
  },
  {
   "cell_type": "code",
   "execution_count": 47,
   "id": "f727f0c9",
   "metadata": {
    "ExecuteTime": {
     "end_time": "2024-09-09T02:31:18.979349Z",
     "start_time": "2024-09-09T02:31:18.959664Z"
    }
   },
   "outputs": [],
   "source": [
    "uplift_vals = uplift_model.predict(np.array(df_test[feature_cols].values.copy()))"
   ]
  },
  {
   "cell_type": "code",
   "execution_count": 48,
   "id": "4b17b56a",
   "metadata": {
    "ExecuteTime": {
     "end_time": "2024-09-09T02:31:19.679927Z",
     "start_time": "2024-09-09T02:31:19.672969Z"
    }
   },
   "outputs": [],
   "source": [
    "df_res = pd.DataFrame(uplift_vals, columns=uplift_model.classes_)"
   ]
  },
  {
   "cell_type": "code",
   "execution_count": 49,
   "id": "4179cd40",
   "metadata": {
    "ExecuteTime": {
     "end_time": "2024-09-09T02:31:20.352471Z",
     "start_time": "2024-09-09T02:31:20.334815Z"
    }
   },
   "outputs": [
    {
     "data": {
      "text/html": [
       "<div>\n",
       "<style scoped>\n",
       "    .dataframe tbody tr th:only-of-type {\n",
       "        vertical-align: middle;\n",
       "    }\n",
       "\n",
       "    .dataframe tbody tr th {\n",
       "        vertical-align: top;\n",
       "    }\n",
       "\n",
       "    .dataframe thead th {\n",
       "        text-align: right;\n",
       "    }\n",
       "</style>\n",
       "<table border=\"1\" class=\"dataframe\">\n",
       "  <thead>\n",
       "    <tr style=\"text-align: right;\">\n",
       "      <th></th>\n",
       "      <th>0</th>\n",
       "      <th>1</th>\n",
       "    </tr>\n",
       "  </thead>\n",
       "  <tbody>\n",
       "    <tr>\n",
       "      <th>0</th>\n",
       "      <td>0.119888</td>\n",
       "      <td>0.190416</td>\n",
       "    </tr>\n",
       "    <tr>\n",
       "      <th>1</th>\n",
       "      <td>0.119888</td>\n",
       "      <td>0.190416</td>\n",
       "    </tr>\n",
       "    <tr>\n",
       "      <th>2</th>\n",
       "      <td>0.119888</td>\n",
       "      <td>0.190416</td>\n",
       "    </tr>\n",
       "    <tr>\n",
       "      <th>3</th>\n",
       "      <td>0.119888</td>\n",
       "      <td>0.190416</td>\n",
       "    </tr>\n",
       "    <tr>\n",
       "      <th>4</th>\n",
       "      <td>0.169811</td>\n",
       "      <td>0.214689</td>\n",
       "    </tr>\n",
       "  </tbody>\n",
       "</table>\n",
       "</div>"
      ],
      "text/plain": [
       "          0         1\n",
       "0  0.119888  0.190416\n",
       "1  0.119888  0.190416\n",
       "2  0.119888  0.190416\n",
       "3  0.119888  0.190416\n",
       "4  0.169811  0.214689"
      ]
     },
     "execution_count": 49,
     "metadata": {},
     "output_type": "execute_result"
    }
   ],
   "source": [
    "df_res.head()"
   ]
  },
  {
   "cell_type": "code",
   "execution_count": 50,
   "id": "830784a3",
   "metadata": {
    "ExecuteTime": {
     "end_time": "2024-09-09T02:31:21.434172Z",
     "start_time": "2024-09-09T02:31:21.424708Z"
    }
   },
   "outputs": [
    {
     "data": {
      "text/plain": [
       "(3196, 2)"
      ]
     },
     "execution_count": 50,
     "metadata": {},
     "output_type": "execute_result"
    }
   ],
   "source": [
    "uplift_vals.shape"
   ]
  },
  {
   "cell_type": "code",
   "execution_count": 51,
   "id": "af721127",
   "metadata": {
    "ExecuteTime": {
     "end_time": "2024-09-09T02:31:22.546652Z",
     "start_time": "2024-09-09T02:31:22.534713Z"
    }
   },
   "outputs": [
    {
     "data": {
      "text/plain": [
       "array([[0.11988761, 0.19041614],\n",
       "       [0.11988761, 0.19041614],\n",
       "       [0.11988761, 0.19041614],\n",
       "       ...,\n",
       "       [0.11988761, 0.19041614],\n",
       "       [0.04526749, 0.13598901],\n",
       "       [0.11988761, 0.19041614]])"
      ]
     },
     "execution_count": 51,
     "metadata": {},
     "output_type": "execute_result"
    }
   ],
   "source": [
    "uplift_vals"
   ]
  },
  {
   "cell_type": "code",
   "execution_count": 52,
   "id": "80c3fad4",
   "metadata": {
    "ExecuteTime": {
     "end_time": "2024-09-09T02:31:23.417510Z",
     "start_time": "2024-09-09T02:31:23.407196Z"
    }
   },
   "outputs": [],
   "source": [
    "df_test['uplift_score'] = uplift_vals"
   ]
  },
  {
   "cell_type": "code",
   "execution_count": 53,
   "id": "780a4af0",
   "metadata": {
    "ExecuteTime": {
     "end_time": "2024-09-09T02:31:24.629977Z",
     "start_time": "2024-09-09T02:31:24.363156Z"
    }
   },
   "outputs": [
    {
     "data": {
      "image/png": "[encoded data removed]",
      "text/plain": [
       "<Figure size 720x576 with 1 Axes>"
      ]
     },
     "metadata": {
      "needs_background": "light"
     },
     "output_type": "display_data"
    },
    {
     "data": {
      "text/plain": [
       "0.004931653760611346"
      ]
     },
     "execution_count": 53,
     "metadata": {},
     "output_type": "execute_result"
    }
   ],
   "source": [
    "qini_df(df_test, print_optimum=True)"
   ]
  },
  {
   "cell_type": "markdown",
   "id": "abb79c59",
   "metadata": {},
   "source": [
    "---"
   ]
  },
  {
   "cell_type": "code",
   "execution_count": 54,
   "id": "6c9faff7",
   "metadata": {
    "ExecuteTime": {
     "end_time": "2024-09-09T02:31:29.142475Z",
     "start_time": "2024-09-09T02:31:29.136680Z"
    }
   },
   "outputs": [],
   "source": [
    "uplift_vals = uplift_vals[:,1] - uplift_vals[:,0]"
   ]
  },
  {
   "cell_type": "code",
   "execution_count": 55,
   "id": "906c1aa3",
   "metadata": {
    "ExecuteTime": {
     "end_time": "2024-09-09T02:31:29.863760Z",
     "start_time": "2024-09-09T02:31:29.856195Z"
    }
   },
   "outputs": [
    {
     "data": {
      "text/plain": [
       "(3196,)"
      ]
     },
     "execution_count": 55,
     "metadata": {},
     "output_type": "execute_result"
    }
   ],
   "source": [
    "uplift_vals.shape"
   ]
  },
  {
   "cell_type": "code",
   "execution_count": 56,
   "id": "1b5f8054",
   "metadata": {
    "ExecuteTime": {
     "end_time": "2024-09-09T02:31:30.577587Z",
     "start_time": "2024-09-09T02:31:30.567529Z"
    }
   },
   "outputs": [
    {
     "data": {
      "text/plain": [
       "array([0.07052854, 0.07052854, 0.07052854, ..., 0.07052854, 0.09072152,\n",
       "       0.07052854])"
      ]
     },
     "execution_count": 56,
     "metadata": {},
     "output_type": "execute_result"
    }
   ],
   "source": [
    "uplift_vals"
   ]
  },
  {
   "cell_type": "code",
   "execution_count": 57,
   "id": "42c9f99c",
   "metadata": {
    "ExecuteTime": {
     "end_time": "2024-09-09T02:31:31.270750Z",
     "start_time": "2024-09-09T02:31:31.264943Z"
    }
   },
   "outputs": [],
   "source": [
    "df_test['uplift_score'] = uplift_vals"
   ]
  },
  {
   "cell_type": "code",
   "execution_count": 58,
   "id": "e75e0054",
   "metadata": {
    "ExecuteTime": {
     "end_time": "2024-09-09T02:31:32.469787Z",
     "start_time": "2024-09-09T02:31:32.183902Z"
    },
    "scrolled": false
   },
   "outputs": [
    {
     "data": {
      "image/png": "[encoded data removed]",
      "text/plain": [
       "<Figure size 720x576 with 1 Axes>"
      ]
     },
     "metadata": {
      "needs_background": "light"
     },
     "output_type": "display_data"
    },
    {
     "data": {
      "text/plain": [
       "-0.003429078757038226"
      ]
     },
     "execution_count": 58,
     "metadata": {},
     "output_type": "execute_result"
    }
   ],
   "source": [
    "qini_df(df_test, print_optimum=True)"
   ]
  },
  {
   "cell_type": "code",
   "execution_count": null,
   "id": "c95a2910",
   "metadata": {},
   "outputs": [],
   "source": []
  },
  {
   "cell_type": "code",
   "execution_count": null,
   "id": "608f3f0b",
   "metadata": {},
   "outputs": [],
   "source": []
  }
 ],
 "metadata": {
  "kernelspec": {
   "display_name": "mle_uplift",
   "language": "python",
   "name": "mle_uplift"
  },
  "language_info": {
   "codemirror_mode": {
    "name": "ipython",
    "version": 3
   },
   "file_extension": ".py",
   "mimetype": "text/x-python",
   "name": "python",
   "nbconvert_exporter": "python",
   "pygments_lexer": "ipython3",
   "version": "3.10.14"
  },
  "toc": {
   "base_numbering": 1,
   "nav_menu": {},
   "number_sections": true,
   "sideBar": true,
   "skip_h1_title": false,
   "title_cell": "Table of Contents",
   "title_sidebar": "Contents",
   "toc_cell": false,
   "toc_position": {
    "height": "calc(100% - 180px)",
    "left": "10px",
    "top": "150px",
    "width": "480px"
   },
   "toc_section_display": true,
   "toc_window_display": true
  },
  "varInspector": {
   "cols": {
    "lenName": 16,
    "lenType": 16,
    "lenVar": 40
   },
   "kernels_config": {
    "python": {
     "delete_cmd_postfix": "",
     "delete_cmd_prefix": "del ",
     "library": "var_list.py",
     "varRefreshCmd": "print(var_dic_list())"
    },
    "r": {
     "delete_cmd_postfix": ") ",
     "delete_cmd_prefix": "rm(",
     "library": "var_list.r",
     "varRefreshCmd": "cat(var_dic_list()) "
    }
   },
   "types_to_exclude": [
    "module",
    "function",
    "builtin_function_or_method",
    "instance",
    "_Feature"
   ],
   "window_display": false
  }
 },
 "nbformat": 4,
 "nbformat_minor": 5
}
